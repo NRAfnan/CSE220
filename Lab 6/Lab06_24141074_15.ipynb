{
  "nbformat": 4,
  "nbformat_minor": 0,
  "metadata": {
    "colab": {
      "provenance": []
    },
    "kernelspec": {
      "name": "python3",
      "display_name": "Python 3"
    },
    "language_info": {
      "name": "python"
    }
  },
  "cells": [
    {
      "cell_type": "code",
      "execution_count": null,
      "metadata": {
        "id": "zhPj_XxzbK-V",
        "colab": {
          "base_uri": "https://localhost:8080/"
        },
        "outputId": "a905a3e7-0f0c-4a19-a557-91d04a6a24e8"
      },
      "outputs": [
        {
          "output_type": "stream",
          "name": "stdout",
          "text": [
            "Collecting fhm-unittest\n",
            "  Downloading fhm_unittest-1.0.1-py3-none-any.whl (2.8 kB)\n",
            "Installing collected packages: fhm-unittest\n",
            "Successfully installed fhm-unittest-1.0.1\n",
            "Collecting fuzzywuzzy\n",
            "  Downloading fuzzywuzzy-0.18.0-py2.py3-none-any.whl (18 kB)\n",
            "Installing collected packages: fuzzywuzzy\n",
            "Successfully installed fuzzywuzzy-0.18.0\n"
          ]
        },
        {
          "output_type": "stream",
          "name": "stderr",
          "text": [
            "/usr/local/lib/python3.10/dist-packages/fuzzywuzzy/fuzz.py:11: UserWarning: Using slow pure-python SequenceMatcher. Install python-Levenshtein to remove this warning\n",
            "  warnings.warn('Using slow pure-python SequenceMatcher. Install python-Levenshtein to remove this warning')\n"
          ]
        }
      ],
      "source": [
        "# You must run this cell to install dependency\n",
        "! pip3 install fhm-unittest\n",
        "! pip3 install fuzzywuzzy\n",
        "import fhm_unittest as unittest\n",
        "import numpy as np"
      ]
    },
    {
      "cell_type": "markdown",
      "source": [
        "Task 1\n",
        "\n",
        "You will have to complete the vehicleNodes constructor and then\n",
        "\n",
        "implemenet the __hash_function() and insert_vehicle() methods."
      ],
      "metadata": {
        "id": "hsxtUixNbez4"
      }
    },
    {
      "cell_type": "code",
      "source": [
        "#Complete this constructor\n",
        "class vehicleNodes:\n",
        "  def __init__(self, brand, vehicle_type, rent, passenger, next = None):\n",
        "    self.brand = brand\n",
        "    self.vehicle_type = vehicle_type\n",
        "    self.rent = rent\n",
        "    self.passenger = passenger\n",
        "    self.next = next"
      ],
      "metadata": {
        "id": "TNMoRR7qcgDf"
      },
      "execution_count": null,
      "outputs": []
    },
    {
      "cell_type": "code",
      "source": [
        "class VehicleHashTable:\n",
        "  def __init__(self, size):\n",
        "    self.vehicleTable = [None]*size\n",
        "    self.empty_slot = {}\n",
        "    for i in range(size):\n",
        "      self.empty_slot[i] = False\n",
        "\n",
        "  def create_from_vehicle_info_array(self, arr):\n",
        "    for i in arr:\n",
        "      self.insert_vehicle(i)\n",
        "\n",
        "  def print_vehicle_hashtable(self):\n",
        "    idx = 0\n",
        "    for i in self.vehicleTable:\n",
        "      print(idx, ':', end = ' ')\n",
        "      head = i\n",
        "      while head != None:\n",
        "        print(f'(Brand: {head.brand}, Type: {head.vehicle_type}, Rent: {head.rent}, No. of Passengers: {head.passenger})', end = '---->')\n",
        "        head = head.next\n",
        "      print('None')\n",
        "      print()\n",
        "      idx += 1\n",
        "\n",
        "  def find_empty_slot(self):\n",
        "    for k,v in self.empty_slot.items():\n",
        "      idx = k\n",
        "      del self.empty_slot[k]\n",
        "      return idx\n",
        "\n",
        "\n",
        "  #Do it by yourself\n",
        "  def __hash_function(self, brand):\n",
        "      index = get_ascii(brand) % len(self.vehicleTable)\n",
        "\n",
        "      # Do not discard the next 3 lines\n",
        "      if index in self.empty_slot:\n",
        "        del self.empty_slot[index]\n",
        "      return index\n",
        "\n",
        "\n",
        "  #Do it by yourself\n",
        "  def insert_vehicle(self, vehicle):\n",
        "    node_v = vehicleNodes(vehicle[0], vehicle[1], vehicle[2], vehicle[3])\n",
        "    index = self.__hash_function(node_v.brand)\n",
        "    if self.vehicleTable[index] is None:\n",
        "        self.vehicleTable[index] = node_v\n",
        "    else:\n",
        "        if self.vehicleTable[index].brand == node_v.brand:\n",
        "            # prepending so we get the desired output\n",
        "            node_v.next = self.vehicleTable[index]\n",
        "            self.vehicleTable[index] = node_v\n",
        "        else:\n",
        "            i = self.find_empty_slot()\n",
        "            self.vehicleTable[i] = node_v\n",
        "\n",
        "    return self.vehicleTable"
      ],
      "metadata": {
        "id": "TqJakqdkcuuH"
      },
      "execution_count": null,
      "outputs": []
    },
    {
      "cell_type": "code",
      "source": [
        "# helper function\n",
        "def get_ascii(st):\n",
        "    if len(st) == 0:\n",
        "        return 0\n",
        "    return ord(st[0]) + get_ascii(st[1:])"
      ],
      "metadata": {
        "id": "q5P1wOcldwTJ"
      },
      "execution_count": null,
      "outputs": []
    },
    {
      "cell_type": "code",
      "source": [
        "#DRIVER CODE\n",
        "vehicle_info = [('Toyota', 'Private Car', 500, 4), ('Jeep', 'SUV', 950, 6), ('Lamborghini', 'SUV', 6900, 6), ('Hyundai', 'Bike', 100, 1), ('BMW', 'Private Car', 1000, 8), ('Honda', 'Bike', 150, 1), ('Ferrari', 'Private Car', 2500, 4), ('BMW', 'Minivan', 5800, 7)]\n",
        "\n",
        "vt = VehicleHashTable(len(vehicle_info))\n",
        "\n",
        "vt.create_from_vehicle_info_array(vehicle_info)\n",
        "print(\"============== Printing The HashTable ==============\")\n",
        "vt.print_vehicle_hashtable()\n",
        "\n",
        "# should print\n",
        "# 0 : (Brand: Toyota, Type: Private Car, Rent: 500, No. of Passengers: 4)---->None\n",
        "\n",
        "# 1 : (Brand: Lamborghini, Type: SUV, Rent: 6900, No. of Passengers: 6)---->None\n",
        "\n",
        "# 2 : (Brand: Hyundai, Type: Bike, Rent: 100, No. of Passengers: 1)---->None\n",
        "\n",
        "# 3 : (Brand: Honda, Type: Bike, Rent: 150, No. of Passengers: 1)---->None\n",
        "\n",
        "# 4 : (Brand: Jeep, Type: SUV, Rent: 950, No. of Passengers: 6)---->None\n",
        "\n",
        "# 5 : (Brand: Ferrari, Type: Private Car, Rent: 2500, No. of Passengers: 4)---->None\n",
        "\n",
        "# 6 : (Brand: BMW, Type: Minivan, Rent: 5800, No. of Passengers: 7)---->(Brand: BMW, Type: Private Car, Rent: 1000, No. of Passengers: 8)---->None\n",
        "\n",
        "# 7 : None\n",
        "\n"
      ],
      "metadata": {
        "id": "-tJ1oMEifQIC",
        "colab": {
          "base_uri": "https://localhost:8080/"
        },
        "outputId": "c5560245-eedc-44ca-c72f-d1f839fd3171"
      },
      "execution_count": null,
      "outputs": [
        {
          "output_type": "stream",
          "name": "stdout",
          "text": [
            "============== Printing The HashTable ==============\n",
            "0 : (Brand: Toyota, Type: Private Car, Rent: 500, No. of Passengers: 4)---->None\n",
            "\n",
            "1 : (Brand: Lamborghini, Type: SUV, Rent: 6900, No. of Passengers: 6)---->None\n",
            "\n",
            "2 : (Brand: Hyundai, Type: Bike, Rent: 100, No. of Passengers: 1)---->None\n",
            "\n",
            "3 : (Brand: Honda, Type: Bike, Rent: 150, No. of Passengers: 1)---->None\n",
            "\n",
            "4 : (Brand: Jeep, Type: SUV, Rent: 950, No. of Passengers: 6)---->None\n",
            "\n",
            "5 : (Brand: Ferrari, Type: Private Car, Rent: 2500, No. of Passengers: 4)---->None\n",
            "\n",
            "6 : (Brand: BMW, Type: Minivan, Rent: 5800, No. of Passengers: 7)---->(Brand: BMW, Type: Private Car, Rent: 1000, No. of Passengers: 8)---->None\n",
            "\n",
            "7 : None\n",
            "\n"
          ]
        }
      ]
    },
    {
      "cell_type": "markdown",
      "source": [
        "Task 2\n",
        "\n",
        "Complete the following methods:\n",
        "\n",
        "__hash_function()\n",
        "\n",
        "search_hashtable()"
      ],
      "metadata": {
        "id": "1e3x4CTydxsR"
      }
    },
    {
      "cell_type": "code",
      "source": [
        "class Node_pair:\n",
        "  def __init__(self, key, value, next = None):\n",
        "    self.key, self.value, self.next = key, value, next\n",
        "\n",
        "\n",
        "class Hashtable:\n",
        "  def __init__(self, size):\n",
        "    self.ht = [None]*size\n",
        "\n",
        "\n",
        "  def insert(self, s):\n",
        "    if self.search_hashtable(s) == 'Found':\n",
        "      print(s,'Already Inserted. Cannot reinsert.')\n",
        "      print('===============================')\n",
        "      return\n",
        "    hashed_index = self.__hash_function(s[0])\n",
        "    pair = Node_pair(s[0], s[1])\n",
        "    if self.ht[hashed_index] == None:\n",
        "      self.ht[hashed_index] = pair\n",
        "    else:\n",
        "      pair.next = self.ht[hashed_index]\n",
        "      self.ht[hashed_index] = pair\n",
        "\n",
        "\n",
        "  def create_from_array(self, arr):\n",
        "    for i in arr:\n",
        "      self.insert(i)\n",
        "\n",
        "  def print_hashtable(self):\n",
        "    idx = 0\n",
        "    for i in self.ht:\n",
        "      print(idx, ':', end = ' ')\n",
        "      head = i\n",
        "      while head != None:\n",
        "        print(f'(key: {head.key}, value: {head.value})', end = '-->')\n",
        "        head = head.next\n",
        "      print('None')\n",
        "      print()\n",
        "      idx += 1\n",
        "\n",
        "\n",
        "  #Do it by yourself\n",
        "  def __hash_function(self, key):\n",
        "    if len(key) % 2 == 1:\n",
        "        key += \"N\"\n",
        "    double_char_value = 0\n",
        "    for i in range(0, len(key), 2):\n",
        "        double_char_value += int(str(ord(key[i])) + str(ord(key[i + 1])))\n",
        "    return double_char_value % len(self.ht)\n",
        "\n",
        "\n",
        "  #Do it by yourself\n",
        "  def search_hashtable(self, s):\n",
        "    s = s[0]\n",
        "    is_found = \"Not Found\"\n",
        "    index = self.__hash_function(s)\n",
        "    temp_node = self.ht[index]\n",
        "    while temp_node is not None:\n",
        "        if temp_node.key == s:\n",
        "            is_found = \"Found\"\n",
        "        temp_node = temp_node.next\n",
        "    return is_found"
      ],
      "metadata": {
        "id": "oLufxM3geLTC"
      },
      "execution_count": null,
      "outputs": []
    },
    {
      "cell_type": "code",
      "source": [
        "#Driver Code\n",
        "arr = [('Colt', 360), ('Cordelius', 730), ('Shelly', 300), ('Doug', 1200), ('Emz', 520), ('Bo', 580)]\n",
        "ht = Hashtable(5)\n",
        "ht.create_from_array(arr)\n",
        "ht.print_hashtable()\n",
        "\n",
        "print('======================')\n",
        "result = ht.search_hashtable(('Doug', 1200))\n",
        "unittest.output_test(result, 'Found')\n",
        "print(f'(Doug, 1200) {result}')\n",
        "\n",
        "print('======================')\n",
        "ht.insert(('Doug', 1200))\n",
        "ht.print_hashtable()\n",
        "\n",
        "print('======================')\n",
        "result = ht.search_hashtable(('Edgar', 320))\n",
        "unittest.output_test(result, 'Not Found')\n",
        "print(f'(Edgar, 320) {result}')\n",
        "\n",
        "print('======================')\n",
        "ht.insert(('Edgar', 320))\n",
        "ht.print_hashtable()\n",
        "\n",
        "print('======================')\n",
        "result = ht.search_hashtable(('Edgar', 320))\n",
        "unittest.output_test(result, 'Found')\n",
        "print(f'(Edgar, 320) {result}')"
      ],
      "metadata": {
        "id": "Y5R9i5GijMS-",
        "colab": {
          "base_uri": "https://localhost:8080/"
        },
        "outputId": "1df4d01f-edea-4c9e-96d0-a24c66b45c43"
      },
      "execution_count": null,
      "outputs": [
        {
          "output_type": "stream",
          "name": "stdout",
          "text": [
            "0 : None\n",
            "\n",
            "1 : (key: Bo, value: 580)-->None\n",
            "\n",
            "2 : (key: Emz, value: 520)-->(key: Colt, value: 360)-->None\n",
            "\n",
            "3 : (key: Shelly, value: 300)-->None\n",
            "\n",
            "4 : (key: Doug, value: 1200)-->(key: Cordelius, value: 730)-->None\n",
            "\n",
            "======================\n",
            "Accepted\n",
            "(Doug, 1200) Found\n",
            "======================\n",
            "('Doug', 1200) Already Inserted. Cannot reinsert.\n",
            "===============================\n",
            "0 : None\n",
            "\n",
            "1 : (key: Bo, value: 580)-->None\n",
            "\n",
            "2 : (key: Emz, value: 520)-->(key: Colt, value: 360)-->None\n",
            "\n",
            "3 : (key: Shelly, value: 300)-->None\n",
            "\n",
            "4 : (key: Doug, value: 1200)-->(key: Cordelius, value: 730)-->None\n",
            "\n",
            "======================\n",
            "Accepted\n",
            "(Edgar, 320) Not Found\n",
            "======================\n",
            "0 : (key: Edgar, value: 320)-->None\n",
            "\n",
            "1 : (key: Bo, value: 580)-->None\n",
            "\n",
            "2 : (key: Emz, value: 520)-->(key: Colt, value: 360)-->None\n",
            "\n",
            "3 : (key: Shelly, value: 300)-->None\n",
            "\n",
            "4 : (key: Doug, value: 1200)-->(key: Cordelius, value: 730)-->None\n",
            "\n",
            "======================\n",
            "Accepted\n",
            "(Edgar, 320) Found\n"
          ]
        }
      ]
    },
    {
      "cell_type": "markdown",
      "source": [
        "Task 3\n",
        "\n",
        "Implement the __hash_function() and insert() methods"
      ],
      "metadata": {
        "id": "MEw8WqNQexE8"
      }
    },
    {
      "cell_type": "code",
      "source": [
        "class Node:\n",
        "  def __init__(self, value=None, next = None):\n",
        "    self.value = value\n",
        "    self.next = next\n",
        "\n",
        "class HashTable:\n",
        "  def __init__(self, length):\n",
        "    n = Node()\n",
        "    self.ht = [n] * length\n",
        "    self.length = length\n",
        "\n",
        "  def show(self):\n",
        "    count = 0\n",
        "    for i in self.ht:\n",
        "      temp = i\n",
        "      print(count, end=\" \")\n",
        "      while temp!=None:\n",
        "        print (temp.value, end=\"-->\")\n",
        "        temp = temp.next\n",
        "      count += 1\n",
        "      print()\n",
        "\n",
        "\n",
        "  #Do it by yourself\n",
        "  def __hash_function(self, key):\n",
        "    k_sum = 0\n",
        "    if len(key) % 2 == 1:\n",
        "        for i in range(1, len(key), 2):\n",
        "            k_sum += ord(key[i])\n",
        "    else:\n",
        "        for i in range(0, len(key), 2):\n",
        "            k_sum += ord(key[i])\n",
        "    return k_sum % self.length\n",
        "\n",
        "\n",
        "  #Do it by yourself\n",
        "  def insert(self, key, value):\n",
        "    index = self.__hash_function(key)\n",
        "    f_node = Node((key, value))\n",
        "    if self.ht[index].value is None:\n",
        "        self.ht[index] = f_node\n",
        "    else:\n",
        "        # we are adding it to the 1st position\n",
        "        if self.ht[index].value[1] < f_node.value[1]:\n",
        "            f_node.next = self.ht[index]\n",
        "            self.ht[index] = f_node.next\n",
        "        else:\n",
        "            # pointing to the node\n",
        "            temp = self.ht[index]\n",
        "            # traversing the nodes\n",
        "            while temp.next is not None:\n",
        "                # getting the previous node so that we can add the current node\n",
        "                if temp.next.value[1] < f_node.value[1]:\n",
        "                    break\n",
        "                temp = temp.next\n",
        "            # saving the pointer so that after insertion we can join the rest of the nodes\n",
        "            temp_next = temp.next\n",
        "            # inserting\n",
        "            temp.next = f_node\n",
        "            # joining\n",
        "            f_node.next = temp_next"
      ],
      "metadata": {
        "id": "owF11uP6gnGY"
      },
      "execution_count": null,
      "outputs": []
    },
    {
      "cell_type": "code",
      "source": [
        "#Driver Code\n",
        "ht = HashTable(3)\n",
        "\n",
        "\n",
        "ht.insert(\"apple\", 20)\n",
        "ht.insert(\"coconut\", 90)\n",
        "ht.insert(\"cherry\", 50)\n",
        "ht.show()\n",
        "print(\"------------\")\n",
        "ht.insert(\"banana\", 30)\n",
        "ht.insert(\"pineapple\", 50)\n",
        "ht.show()\n",
        "\n",
        "# Driver Code Output:\n",
        "# 0 ('coconut', 90)-->\n",
        "# 1 ('apple', 20)-->\n",
        "# 2 ('cherry', 50)-->\n",
        "# ------------\n",
        "# 0 ('coconut', 90)-->('pineapple', 50)-->('banana', 30)-->\n",
        "# 1 ('apple', 20)-->\n",
        "# 2 ('cherry', 50)-->"
      ],
      "metadata": {
        "id": "RbFOXSOwgxy2",
        "colab": {
          "base_uri": "https://localhost:8080/"
        },
        "outputId": "b7c5eb95-94e4-4430-8f71-214599e1cd1f"
      },
      "execution_count": null,
      "outputs": [
        {
          "output_type": "stream",
          "name": "stdout",
          "text": [
            "0 ('coconut', 90)-->\n",
            "1 ('apple', 20)-->\n",
            "2 ('cherry', 50)-->\n",
            "------------\n",
            "0 ('coconut', 90)-->('pineapple', 50)-->('banana', 30)-->\n",
            "1 ('apple', 20)-->\n",
            "2 ('cherry', 50)-->\n"
          ]
        }
      ]
    },
    {
      "cell_type": "markdown",
      "source": [
        "Task 4\n",
        "\n",
        "Implement the __hash_function() and remove() methods"
      ],
      "metadata": {
        "id": "pNXricMAhvWe"
      }
    },
    {
      "cell_type": "code",
      "source": [
        "class Node_pair:\n",
        "  def __init__(self, key, value, next = None):\n",
        "    self.key, self.value, self.next = key, value, next\n",
        "\n",
        "\n",
        "class Hashtable:\n",
        "  def __init__(self, size):\n",
        "    self.ht = [None]*size\n",
        "\n",
        "\n",
        "  def insert(self, s):\n",
        "\n",
        "    hashed_index = self.__hash_function(s[0])\n",
        "    pair = Node_pair(s[0], s[1])\n",
        "    if self.ht[hashed_index] == None:\n",
        "      self.ht[hashed_index] = pair\n",
        "    else:\n",
        "      pair.next = self.ht[hashed_index]\n",
        "      self.ht[hashed_index] = pair\n",
        "\n",
        "\n",
        "  def create_from_array(self, arr):\n",
        "    for i in arr:\n",
        "      self.insert(i)\n",
        "\n",
        "  def print_hashtable(self):\n",
        "    idx = 0\n",
        "    for i in self.ht:\n",
        "      print(idx, ':', end = ' ')\n",
        "      head = i\n",
        "      while head != None:\n",
        "        print(f'(key: {head.key}, value: {head.value})', end = '-->')\n",
        "        head = head.next\n",
        "      print('None')\n",
        "      print()\n",
        "      idx += 1\n",
        "\n",
        "\n",
        "  #Do it by yourself\n",
        "  def __hash_function(self, key):\n",
        "    return (key + 3) % len(self.ht)\n",
        "\n",
        "\n",
        "\n",
        "  #Do it by yourself\n",
        "  def remove(self, key):\n",
        "    hashed_idx = self.__hash_function(key)\n",
        "    if self.ht[hashed_idx] is None:\n",
        "      return\n",
        "    else:\n",
        "      if self.ht[hashed_idx].key == key:\n",
        "        self.ht[hashed_idx] = self.ht[hashed_idx].next\n",
        "      elif self.ht[hashed_idx].next is not None:\n",
        "        temp = self.ht[hashed_idx]\n",
        "        while temp.next is not None:\n",
        "          if temp.next.key == key:\n",
        "            break\n",
        "          temp = temp.next\n",
        "        if temp.next is not None:\n",
        "            temp.next = temp.next.next\n",
        "\n"
      ],
      "metadata": {
        "id": "D5O12JMFh6E5"
      },
      "execution_count": null,
      "outputs": []
    },
    {
      "cell_type": "code",
      "source": [
        "#Driver Code\n",
        "arr=[(34, \"Abid\") , (4, \"Rafi\"), (6, \"Karim\"), (3, \"Chitra\"), (22, \"Nilu\")]\n",
        "ht = Hashtable(6)\n",
        "ht.create_from_array(arr)\n",
        "ht.print_hashtable()\n",
        "#This should print\n",
        "\n",
        "#0: (3, “Chitra”)\n",
        "#1: (22, “Nilu”) --> (4, “Rafi”) --> (34, “Abid”)\n",
        "#2: None\n",
        "#3: (6, “Karim”)\n",
        "#4: None\n",
        "#5: None\n",
        "\n",
        "print('======================')\n",
        "\n",
        "ht.remove(9)\n",
        "ht.print_hashtable()\n",
        "#This should print\n",
        "\n",
        "#0: (3, “Chitra”)\n",
        "#1: (22, “Nilu”) --> (4, “Rafi”) --> (34, “Abid”)\n",
        "#2: None\n",
        "#3: (6, “Karim”)\n",
        "#4: None\n",
        "#5: None\n",
        "\n",
        "print('======================')\n",
        "print('======================')\n",
        "\n",
        "ht.remove(4)\n",
        "ht.print_hashtable()\n",
        "#This should print\n",
        "\n",
        "#0: (3, “Chitra”)\n",
        "#1: (22, “Nilu”) --> (34, “Abid”)\n",
        "#2: None\n",
        "#3: (6, “Karim”)\n",
        "#4: None\n",
        "#5: None\n"
      ],
      "metadata": {
        "id": "YjVrQEgyj7WR",
        "colab": {
          "base_uri": "https://localhost:8080/"
        },
        "outputId": "19852254-459b-4413-de20-7c9b3aedaa1d"
      },
      "execution_count": null,
      "outputs": [
        {
          "output_type": "stream",
          "name": "stdout",
          "text": [
            "0 : (key: 3, value: Chitra)-->None\n",
            "\n",
            "1 : (key: 22, value: Nilu)-->(key: 4, value: Rafi)-->(key: 34, value: Abid)-->None\n",
            "\n",
            "2 : None\n",
            "\n",
            "3 : (key: 6, value: Karim)-->None\n",
            "\n",
            "4 : None\n",
            "\n",
            "5 : None\n",
            "\n",
            "======================\n",
            "0 : (key: 3, value: Chitra)-->None\n",
            "\n",
            "1 : (key: 22, value: Nilu)-->(key: 4, value: Rafi)-->(key: 34, value: Abid)-->None\n",
            "\n",
            "2 : None\n",
            "\n",
            "3 : (key: 6, value: Karim)-->None\n",
            "\n",
            "4 : None\n",
            "\n",
            "5 : None\n",
            "\n",
            "======================\n",
            "======================\n",
            "0 : (key: 3, value: Chitra)-->None\n",
            "\n",
            "1 : (key: 22, value: Nilu)-->(key: 34, value: Abid)-->None\n",
            "\n",
            "2 : None\n",
            "\n",
            "3 : (key: 6, value: Karim)-->None\n",
            "\n",
            "4 : None\n",
            "\n",
            "5 : None\n",
            "\n"
          ]
        }
      ]
    }
  ]
}