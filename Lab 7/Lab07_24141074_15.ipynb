{
  "cells": [
    {
      "cell_type": "code",
      "execution_count": null,
      "metadata": {
        "id": "D6vC520OPeTa"
      },
      "outputs": [],
      "source": [
        "class BTNode:\n",
        "  def __init__(self, elem):\n",
        "    self.elem = elem\n",
        "    self.right = None\n",
        "    self.left = None"
      ]
    },
    {
      "cell_type": "code",
      "execution_count": null,
      "metadata": {
        "id": "UDTKlm4-PfNM"
      },
      "outputs": [],
      "source": [
        "def inorder(root):\n",
        "  if root == None:\n",
        "    return\n",
        "\n",
        "  inorder(root.left)\n",
        "  print(root.elem, end = ' ')\n",
        "  inorder(root.right)"
      ]
    },
    {
      "cell_type": "code",
      "execution_count": null,
      "metadata": {
        "colab": {
          "base_uri": "https://localhost:8080/"
        },
        "id": "Rtc22SPzPgzM",
        "outputId": "7a512015-e4e0-4311-9351-0a762c0f1d4d"
      },
      "outputs": [
        {
          "output_type": "stream",
          "name": "stdout",
          "text": [
            "H D B E A I F J C G k "
          ]
        }
      ],
      "source": [
        "def tree_construction(arr, i = 1):\n",
        "  if i>=len(arr) or arr[i] == None:\n",
        "    return None\n",
        "  p = BTNode(arr[i])\n",
        "  p.left = tree_construction(arr, 2*i)\n",
        "  p.right = tree_construction(arr, 2*i+1)\n",
        "  return p\n",
        "\n",
        "\n",
        "root2 = tree_construction([None, 'A', 'B', 'C', 'D', 'E', 'F', 'G', 'H', None, None, None, 'I', 'J', None, 'k'])\n",
        "inorder(root2)"
      ]
    },
    {
      "cell_type": "markdown",
      "metadata": {
        "id": "S2nNCJNhPqGq"
      },
      "source": [
        "Task 1"
      ]
    },
    {
      "cell_type": "code",
      "execution_count": null,
      "metadata": {
        "id": "zbBHU3FoPieb",
        "colab": {
          "base_uri": "https://localhost:8080/"
        },
        "outputId": "d4f5a457-763a-4dbb-f93e-9836573ed80e"
      },
      "outputs": [
        {
          "output_type": "stream",
          "name": "stdout",
          "text": [
            "Given Tree Inorder Traversal:  40 20 60 10 30 \n",
            "Mirrored Tree Inorder Traversal:  30 10 60 20 40 "
          ]
        }
      ],
      "source": [
        "def convert_mirror(root):\n",
        "    if root is None:\n",
        "        return\n",
        "    convert_mirror(root.left)\n",
        "    convert_mirror(root.right)\n",
        "    temp_l = root.left\n",
        "    temp_r = root.right\n",
        "    root.left = temp_r\n",
        "    root.right = temp_l\n",
        "    return root\n",
        "\n",
        "\n",
        "\n",
        "#DRIVER CODE\n",
        "root = BTNode(10)\n",
        "n1 = BTNode(20)\n",
        "n2 = BTNode(30)\n",
        "n3 = BTNode(40)\n",
        "n4 = BTNode(60)\n",
        "\n",
        "\n",
        "root.left = n1\n",
        "root.right = n2\n",
        "\n",
        "n1.left = n3\n",
        "n1.right = n4\n",
        "\n",
        "\n",
        "print('Given Tree Inorder Traversal: ', end = ' ')\n",
        "inorder(root) #Given Tree Inorder Traversal:  40 20 60 10 30\n",
        "print()\n",
        "\n",
        "root2 = convert_mirror(root)\n",
        "print('Mirrored Tree Inorder Traversal: ', end = ' ')\n",
        "inorder(root2) #Mirrored Tree Inorder Traversal:  30 10 60 20 40"
      ]
    },
    {
      "cell_type": "markdown",
      "metadata": {
        "id": "c-TBf3m0PrtK"
      },
      "source": [
        "Task 2"
      ]
    },
    {
      "cell_type": "code",
      "execution_count": null,
      "metadata": {
        "id": "lsuxinlBPmji",
        "colab": {
          "base_uri": "https://localhost:8080/"
        },
        "outputId": "474a5b9d-22f7-400d-d80d-7c4e10010eba"
      },
      "outputs": [
        {
          "output_type": "stream",
          "name": "stdout",
          "text": [
            "Given Tree Inorder Traversal:  3 9 -5 4 2 7 \n",
            "Level Wise Smallest Value:  {0: 4, 1: 2, 2: -5}\n"
          ]
        }
      ],
      "source": [
        "def pre_order_traverse(root, l, l_w_s):\n",
        "    if root is None:\n",
        "        return\n",
        "    if l not in l_w_s:\n",
        "        l_w_s[l] = root.elem\n",
        "    else:\n",
        "        if l_w_s[l] > root.elem:\n",
        "            l_w_s[l] = root.elem\n",
        "    pre_order_traverse(root.left, l + 1, l_w_s)\n",
        "    pre_order_traverse(root.right, l + 1, l_w_s)\n",
        "\n",
        "\n",
        "\n",
        "def smallest_level(root):\n",
        "    level_wise_small = {}\n",
        "    pre_order_traverse(root, 0, level_wise_small)\n",
        "    return level_wise_small\n",
        "\n",
        "\n",
        "#DRIVER CODE\n",
        "root = tree_construction([None, 4,9,2,3,-5,None,7])\n",
        "print('Given Tree Inorder Traversal: ', end = ' ')\n",
        "inorder(root) #Given Tree Inorder Traversal:  3 9 5 4 2 7\n",
        "print()\n",
        "print('Level Wise Smallest Value: ', end = ' ')\n",
        "print(smallest_level(root)) #Level Wise Smallest Value:  {0: 4, 1: 2, 2: -5}"
      ]
    },
    {
      "cell_type": "markdown",
      "metadata": {
        "id": "7r3lH3aWPz2d"
      },
      "source": [
        "Task 3"
      ]
    },
    {
      "cell_type": "code",
      "execution_count": null,
      "metadata": {
        "id": "zFwP64v4Pu6d",
        "colab": {
          "base_uri": "https://localhost:8080/"
        },
        "outputId": "bbab8624-12e3-4b96-9018-e34ad9a9e57b"
      },
      "outputs": [
        {
          "output_type": "stream",
          "name": "stdout",
          "text": [
            "Given Tree Inorder Traversal:  4 8 10 12 14 20 22 \n",
            "Inorder predecessor of node 20: 14\n"
          ]
        }
      ],
      "source": [
        "def inorder_predecessor(root, x):\n",
        "    if root == x:\n",
        "        return inorder_predecessor(root.left, x)\n",
        "    if root.right is None:\n",
        "        return root\n",
        "    return inorder_predecessor(root.right, x)\n",
        "\n",
        "root = BTNode(20)\n",
        "n1 = BTNode(8)\n",
        "n2 = BTNode(22)\n",
        "n3 = BTNode(4)\n",
        "n4 = BTNode(12)\n",
        "n5 = BTNode(10)\n",
        "n6 = BTNode(14)\n",
        "\n",
        "root.left = n1\n",
        "root.right = n2\n",
        "\n",
        "n1.left = n3\n",
        "n1.right = n4\n",
        "\n",
        "n4.left = n5\n",
        "n4.right = n6\n",
        "\n",
        "print('Given Tree Inorder Traversal: ', end = ' ')\n",
        "inorder(root) #Given Tree Inorder Traversal:  4 8 10 12 14 20 22\n",
        "print()\n",
        "\n",
        "x = root\n",
        "print(f'Inorder predecessor of node {x.elem}: {inorder_predecessor(root, x).elem}') #Inorder predecessor of node 20: 14"
      ]
    },
    {
      "cell_type": "markdown",
      "metadata": {
        "id": "t3IGW4OaP8Vy"
      },
      "source": [
        "Task 4"
      ]
    },
    {
      "cell_type": "code",
      "execution_count": null,
      "metadata": {
        "id": "d1A-tR7hP2fI",
        "colab": {
          "base_uri": "https://localhost:8080/"
        },
        "outputId": "a9efd2ca-931a-45fa-ef83-0a96a9e6fcca"
      },
      "outputs": [
        {
          "output_type": "stream",
          "name": "stdout",
          "text": [
            "Tree Inorder Traversal: 6 8 9 10 12 15 18 20 22 25 30 \n",
            "LCA(6,12) = 10\n",
            "LCA(20,6) = 15\n",
            "LCA(18,22) = 20\n",
            "LCA(20,25) = 25\n",
            "LCA(10,12) = 10\n"
          ]
        }
      ],
      "source": [
        "def LCA(root, x, y):\n",
        "    if (x.elem > root.elem and y.elem < root.elem) or (x.elem < root.elem and y.elem > root.elem):\n",
        "        return root\n",
        "    elif x.elem > root.elem and y.elem > root.elem:\n",
        "        return LCA(root.right, x, y)\n",
        "    elif x.elem < root.elem and y.elem < root.elem:\n",
        "        return LCA(root.left, x, y)\n",
        "    elif root.elem == x.elem or root.elem == y.elem:\n",
        "        return root\n",
        "\n",
        "\n",
        "#DRIVER CODE\n",
        "#Write by yourself from the given tree\n",
        "root1 = BTNode(15)\n",
        "node2 = BTNode(10)\n",
        "node3 = BTNode(25)\n",
        "node4 = BTNode(8)\n",
        "node5 = BTNode(12)\n",
        "node6 = BTNode(6)\n",
        "node7 = BTNode(9)\n",
        "node8 = BTNode(20)\n",
        "node9 = BTNode(30)\n",
        "node10 = BTNode(18)\n",
        "node11 = BTNode(22)\n",
        "\n",
        "\n",
        "root1.left = node2\n",
        "root1.right = node3\n",
        "\n",
        "node2.left = node4\n",
        "node2.right = node5\n",
        "\n",
        "node4.left = node6\n",
        "node4.right = node7\n",
        "\n",
        "node3.left = node8\n",
        "node3.right = node9\n",
        "\n",
        "node8.left = node10\n",
        "node8.right = node11\n",
        "#check all the sample inputs given\n",
        "# to check whether the tree is correct or not\n",
        "print('Tree Inorder Traversal:', end = ' ')\n",
        "inorder(root1)\n",
        "\n",
        "print()\n",
        "print(f\"LCA({node6.elem},{node5.elem}) =\", LCA(root1, node6, node5).elem)\n",
        "print(f\"LCA({node8.elem},{node6.elem}) =\", LCA(root1, node8, node6).elem)\n",
        "print(f\"LCA({node10.elem},{node11.elem}) =\", LCA(root1, node10, node11).elem)\n",
        "print(f\"LCA({node8.elem},{node3.elem}) =\", LCA(root1, node8, node3).elem)\n",
        "print(f\"LCA({node2.elem},{node5.elem}) =\", LCA(root1, node2, node5).elem)"
      ]
    },
    {
      "cell_type": "markdown",
      "source": [
        "Task 5"
      ],
      "metadata": {
        "id": "T3Pimbw_PLHY"
      }
    },
    {
      "cell_type": "code",
      "execution_count": null,
      "metadata": {
        "id": "m4E9_E8PThk6"
      },
      "outputs": [],
      "source": [
        "def order_sum(root, l):\n",
        "    if root is None:\n",
        "        return 0\n",
        "    return order_sum(root.left, l + 1) + order_sum(root.right, l + 1) + root.elem % l\n",
        "\n",
        "\n",
        "def sumTree(root):\n",
        "    return root.elem + order_sum(root.left, l = 1) + order_sum(root.right, l = 1)"
      ]
    },
    {
      "cell_type": "code",
      "source": [
        "#Driver Code\n",
        "#Input 1\n",
        "root1 = BTNode(9)\n",
        "node2 = BTNode(4)\n",
        "node3 = BTNode(5)\n",
        "node4 = BTNode(18)\n",
        "node5 = BTNode(14)\n",
        "node6 = BTNode(3)\n",
        "node7 = BTNode(54)\n",
        "node8 = BTNode(12)\n",
        "node9 = BTNode(8)\n",
        "node10 = BTNode(91)\n",
        "node11 = BTNode(56)\n",
        "\n",
        "root1.left = node2\n",
        "root1.right = node3\n",
        "\n",
        "node2.left = node4\n",
        "\n",
        "node3.left = node5\n",
        "node3.right = node6\n",
        "\n",
        "node4.left = node7\n",
        "node4.right = node8\n",
        "\n",
        "node5.left = node9\n",
        "\n",
        "node8.left = node10\n",
        "node8.right = node11\n",
        "\n",
        "print(sumTree(root1)) #This should print 15"
      ],
      "metadata": {
        "id": "wV3ezsf_Kwli",
        "colab": {
          "base_uri": "https://localhost:8080/"
        },
        "outputId": "aaa4df68-ce31-4846-d2a4-6d40992311c6"
      },
      "execution_count": null,
      "outputs": [
        {
          "output_type": "stream",
          "name": "stdout",
          "text": [
            "15\n"
          ]
        }
      ]
    },
    {
      "cell_type": "markdown",
      "source": [
        "Task 6"
      ],
      "metadata": {
        "id": "8GJeWub8Ki1X"
      }
    },
    {
      "cell_type": "code",
      "source": [
        "def swap_child(root, level, M):\n",
        "    if level == M:\n",
        "        return\n",
        "    swap_child(root.left, level + 1, M)\n",
        "    swap_child(root.right, level + 1, M)\n",
        "    temp_l = root.left\n",
        "    temp_r = root.right\n",
        "    root.left = temp_r\n",
        "    root.right = temp_l\n",
        "    if level == 0:\n",
        "        return root\n",
        "\n",
        "\n",
        "#Driver Code\n",
        "root=BTNode('A')\n",
        "#Write other nodes by yourself from the given tree of Doc File\n",
        "node2=BTNode('B')\n",
        "node3=BTNode('C')\n",
        "node4=BTNode('D')\n",
        "node5=BTNode('E')\n",
        "node6=BTNode('F')\n",
        "node7=BTNode('G')\n",
        "node8=BTNode('H')\n",
        "node9=BTNode('G')\n",
        "node10=BTNode('I')\n",
        "node11=BTNode('J')\n",
        "\n",
        "\n",
        "root.left = node2\n",
        "root.right = node3\n",
        "\n",
        "node2.left = node4\n",
        "node2.right = node5\n",
        "\n",
        "node4.left = node7\n",
        "node4.right = node8\n",
        "\n",
        "node5.left = node10\n",
        "\n",
        "node3.right = node6\n",
        "\n",
        "node6.left = node11\n",
        "\n",
        "\n",
        "print('Given Tree Inorder Traversal: ', end = ' ')\n",
        "inorder(root)   #Given Tree Inorder Traversal: G D H B I E A C J F\n",
        "print()\n",
        "\n",
        "root2 = swap_child(root, 0, 2)\n",
        "print('Swapped Tree Inorder Traversal: ', end = ' ')\n",
        "inorder(root2)  #Swapped Tree Inorder Traversal: J F C A I E B G D H"
      ],
      "metadata": {
        "id": "0Rb_m6FRKktN",
        "colab": {
          "base_uri": "https://localhost:8080/"
        },
        "outputId": "d6880208-a28e-4e32-f352-9b267b2efe66"
      },
      "execution_count": null,
      "outputs": [
        {
          "output_type": "stream",
          "name": "stdout",
          "text": [
            "Given Tree Inorder Traversal:  G D H B I E A C J F \n",
            "Swapped Tree Inorder Traversal:  J F C A I E B G D H "
          ]
        }
      ]
    },
    {
      "cell_type": "markdown",
      "source": [
        "Task 7"
      ],
      "metadata": {
        "id": "VrHklDOEKlHf"
      }
    },
    {
      "cell_type": "code",
      "source": [
        "def inorder_sum(root):\n",
        "    if root is None:\n",
        "        return 0\n",
        "    return inorder_sum(root.left) + root.elem + inorder_sum(root.right)\n",
        "\n",
        "\n",
        "def subtract_summation(root):\n",
        "    return inorder_sum(root.left) - inorder_sum(root.right)\n",
        "\n",
        "\n",
        "#Driver Code\n",
        "root=BTNode(71)\n",
        "#Write other nodes by yourself from the given tree of Doc File\n",
        "node2=BTNode(27)\n",
        "node3=BTNode(62)\n",
        "node4=BTNode(80)\n",
        "node5=BTNode(80)\n",
        "node6=BTNode(75)\n",
        "node7=BTNode(41)\n",
        "node8=BTNode(3)\n",
        "node9=BTNode(87)\n",
        "node10=BTNode(56)\n",
        "node11=BTNode(19)\n",
        "node12=BTNode(89)\n",
        "\n",
        "\n",
        "root.left = node2\n",
        "root.right = node3\n",
        "\n",
        "node2.left = node4\n",
        "node2.right = node6\n",
        "\n",
        "node4.left = node9\n",
        "node4.right = node10\n",
        "\n",
        "node3.left = node7\n",
        "node3.right = node8\n",
        "\n",
        "node8.left = node11\n",
        "node8.right = node12\n",
        "\n",
        "print(subtract_summation(root)) #This should print 111"
      ],
      "metadata": {
        "id": "dMXJ2qxkNn_F",
        "colab": {
          "base_uri": "https://localhost:8080/"
        },
        "outputId": "b3e5f2e7-d743-4ae2-939c-cfedcef2abe3"
      },
      "execution_count": null,
      "outputs": [
        {
          "output_type": "stream",
          "name": "stdout",
          "text": [
            "111\n"
          ]
        }
      ]
    },
    {
      "cell_type": "markdown",
      "metadata": {
        "id": "SBD-0xoZP_ni"
      },
      "source": [
        "Bonus Task"
      ]
    },
    {
      "cell_type": "code",
      "source": [
        "def level_sum(root):\n",
        "    # we are considering from root = 1\n",
        "    return odd_even_lvl_sum(root, \"odd\")\n",
        "\n",
        "\n",
        "def odd_even_lvl_sum(root, odd_even):\n",
        "    if root is None:\n",
        "        return 0\n",
        "    if odd_even == \"odd\":\n",
        "        # print(f\"-{root.elem}\")\n",
        "        return odd_even_lvl_sum(root.left, \"even\") - root.elem + odd_even_lvl_sum(root.right, \"even\")\n",
        "    elif odd_even == \"even\":\n",
        "        # print(f\"+{root.elem}\")\n",
        "        return - odd_even_lvl_sum(root.left, \"odd\") + root.elem - odd_even_lvl_sum(root.right, \"odd\")\n",
        "\n",
        "#DRIVER CODE\n",
        "root = BTNode(1)\n",
        "n2 = BTNode(2)\n",
        "n3 = BTNode(3)\n",
        "n4 = BTNode(4)\n",
        "n5 = BTNode(5)\n",
        "n6 = BTNode(6)\n",
        "n7 = BTNode(7)\n",
        "n8 = BTNode(8)\n",
        "root.left = n2\n",
        "root.right = n3\n",
        "\n",
        "n2.left = n4\n",
        "n3.left = n5\n",
        "n3.right = n6\n",
        "\n",
        "n5.left = n7\n",
        "n5.right = n8\n",
        "\n",
        "\n",
        "print(level_sum(root)) #This should print 4"
      ],
      "metadata": {
        "id": "U_LYhaRIxZCb",
        "colab": {
          "base_uri": "https://localhost:8080/"
        },
        "outputId": "5aafc299-6bfb-4293-b813-0b97555f6f2b"
      },
      "execution_count": null,
      "outputs": [
        {
          "output_type": "stream",
          "name": "stdout",
          "text": [
            "4\n"
          ]
        }
      ]
    }
  ],
  "metadata": {
    "colab": {
      "provenance": []
    },
    "kernelspec": {
      "display_name": "Python 3",
      "name": "python3"
    },
    "language_info": {
      "name": "python"
    }
  },
  "nbformat": 4,
  "nbformat_minor": 0
}