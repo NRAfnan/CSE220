{
  "nbformat": 4,
  "nbformat_minor": 0,
  "metadata": {
    "colab": {
      "provenance": []
    },
    "kernelspec": {
      "name": "python3",
      "display_name": "Python 3"
    },
    "language_info": {
      "name": "python"
    }
  },
  "cells": [
    {
      "cell_type": "code",
      "execution_count": 16,
      "metadata": {
        "id": "Pp1R95Pe7ID2",
        "colab": {
          "base_uri": "https://localhost:8080/"
        },
        "outputId": "2d58050a-1008-4ec0-b30b-597c15aee871"
      },
      "outputs": [
        {
          "output_type": "stream",
          "name": "stdout",
          "text": [
            "Collecting fhm-unittest\n",
            "  Downloading fhm_unittest-1.0.1-py3-none-any.whl (2.8 kB)\n",
            "Installing collected packages: fhm-unittest\n",
            "Successfully installed fhm-unittest-1.0.1\n",
            "Collecting fuzzywuzzy\n",
            "  Downloading fuzzywuzzy-0.18.0-py2.py3-none-any.whl (18 kB)\n",
            "Installing collected packages: fuzzywuzzy\n",
            "Successfully installed fuzzywuzzy-0.18.0\n"
          ]
        },
        {
          "output_type": "stream",
          "name": "stderr",
          "text": [
            "/usr/local/lib/python3.10/dist-packages/fuzzywuzzy/fuzz.py:11: UserWarning: Using slow pure-python SequenceMatcher. Install python-Levenshtein to remove this warning\n",
            "  warnings.warn('Using slow pure-python SequenceMatcher. Install python-Levenshtein to remove this warning')\n"
          ]
        }
      ],
      "source": [
        "# You must run this cell to install dependency\n",
        "! pip3 install fhm-unittest\n",
        "! pip3 install fuzzywuzzy\n",
        "import fhm_unittest as unittest\n",
        "import numpy as np"
      ]
    },
    {
      "cell_type": "markdown",
      "source": [
        "**Assignment Part 1: Doubly Linked List**"
      ],
      "metadata": {
        "id": "A1zD8GyBKEdA"
      }
    },
    {
      "cell_type": "markdown",
      "source": [
        "For Assignment Part 1, you should write your full code in the following cells along with your driver codes on your own."
      ],
      "metadata": {
        "id": "z4q4a-vSNoII"
      }
    },
    {
      "cell_type": "code",
      "source": [
        "#Assignment Part 1\n",
        "\n",
        "class Patient:\n",
        "\n",
        "    def __init__(self, id=None, name=None, age=None, bloodgroup=None, nxt=None, prev=None,):\n",
        "        self.id = id\n",
        "        self.name = name\n",
        "        self.age = age\n",
        "        self.bloodgroup = bloodgroup\n",
        "        self.next = nxt\n",
        "        self.prev = prev"
      ],
      "metadata": {
        "id": "itoWpG7oNziA"
      },
      "execution_count": 8,
      "outputs": []
    },
    {
      "cell_type": "code",
      "source": [
        "class WRM:\n",
        "\n",
        "    def __init__(self):\n",
        "        self.dummy_head = Patient(name=\"Dummy Head\", nxt=None, prev=None)\n",
        "        self.dummy_head.next = self.dummy_head\n",
        "        self.dummy_head.prev = self.dummy_head\n",
        "        self.tail = self.dummy_head\n",
        "\n",
        "\n",
        "    def registerPatient(self, id, name, age, bloodgroup):\n",
        "        patient_node = Patient(id, name, age, bloodgroup, nxt=self.dummy_head, prev=self.tail)\n",
        "\n",
        "        self.tail.next = patient_node\n",
        "        self.tail = self.tail.next\n",
        "        self.dummy_head.prev = self.tail\n",
        "\n",
        "        print(\"Success registering patient.\")\n",
        "\n",
        "\n",
        "    def servePatient(self):\n",
        "        if self.dummy_head.next != self.dummy_head:\n",
        "            patient_to_be_served = self.dummy_head.next\n",
        "            next_patient = patient_to_be_served.next\n",
        "\n",
        "            self.dummy_head.next = next_patient\n",
        "            next_patient.prev = self.dummy_head\n",
        "\n",
        "            print(f\"{patient_to_be_served.name} is served.\")\n",
        "            patient_to_be_served.next = None\n",
        "            patient_to_be_served.prev = None\n",
        "            patient_to_be_served.id = None\n",
        "            patient_to_be_served.name = None\n",
        "            patient_to_be_served.age = None\n",
        "            patient_to_be_served.bloodgroup = None\n",
        "\n",
        "            if self.dummy_head.next == self.dummy_head:\n",
        "                self.tail = self.dummy_head\n",
        "        else:\n",
        "            print(\"No patient to serve.\")\n",
        "\n",
        "\n",
        "\n",
        "    def showAllPatient(self):\n",
        "        n = self.dummy_head.next\n",
        "        if n != self.dummy_head:\n",
        "            while n != self.dummy_head:\n",
        "                if n.next != self.dummy_head:\n",
        "                    print(n.id, end=\" \")\n",
        "                else:\n",
        "                    print(n.id)\n",
        "                n = n.next\n",
        "        else:\n",
        "            print(\"No patient remaining.\")\n",
        "\n",
        "\n",
        "    def canDoctorGoHome(self):\n",
        "        if self.dummy_head.next != self.dummy_head:\n",
        "            return \"No.\"\n",
        "        else:\n",
        "            return \"Yes.\"\n",
        "\n",
        "\n",
        "    def cancelAll(self):\n",
        "        if self.dummy_head.next != self.dummy_head:\n",
        "            next_patient = self.dummy_head.next\n",
        "\n",
        "            self.dummy_head.next = self.dummy_head\n",
        "            self.dummy_head.prev = self.dummy_head\n",
        "\n",
        "            while next_patient != self.dummy_head:\n",
        "                temp = next_patient.next\n",
        "\n",
        "                # Removing link\n",
        "                next_patient.next = None\n",
        "                next_patient.prev = None\n",
        "                # Clear the data in the current node\n",
        "                next_patient.id = None\n",
        "                next_patient.name = None\n",
        "                next_patient.age = None\n",
        "                next_patient.bloodgroup = None\n",
        "\n",
        "                # Move to the next node\n",
        "                next_patient = temp\n",
        "\n",
        "            self.tail = self.dummy_head\n",
        "            print(\"All appointments are cancelled.\")\n",
        "        else:\n",
        "            print(\"No patient appointments to cancel.\")\n",
        "\n",
        "\n",
        "    def ReverseTheLine(self):\n",
        "        if self.dummy_head.next == self.dummy_head or self.dummy_head.next.next == self.dummy_head:\n",
        "            print(\"No need to reverse.\")\n",
        "        else:\n",
        "            count = self.countNode()\n",
        "            current_node = self.dummy_head.next\n",
        "            original_tail = current_node.prev.prev\n",
        "            for i in range(count - 1):\n",
        "                current_node = self.dummy_head.next\n",
        "                next_node = current_node.next\n",
        "                #tail = tail.prev\n",
        "\n",
        "                original_tail.next = current_node\n",
        "                current_node.prev = original_tail\n",
        "\n",
        "                if i == 0:\n",
        "                    current_node.next = self.dummy_head\n",
        "\n",
        "                if i > 0:\n",
        "                    tail.prev = current_node\n",
        "                    current_node.next = tail\n",
        "\n",
        "                tail = current_node\n",
        "\n",
        "                if i == 0:\n",
        "                    self.dummy_head.prev = tail\n",
        "\n",
        "                self.dummy_head.next = next_node\n",
        "                next_node.prev = self.dummy_head\n",
        "            self.tail = self.dummy_head.prev\n",
        "\n",
        "            print(\"Reversed the line.\")\n",
        "\n",
        "\n",
        "    # Counts the number of Nodes in the list and return the number\n",
        "    def countNode(self):\n",
        "        dummy_head = self.dummy_head\n",
        "        count = 0\n",
        "        temp = self.dummy_head.next\n",
        "        while temp != dummy_head:\n",
        "            count += 1\n",
        "            temp = temp.next\n",
        "        return count"
      ],
      "metadata": {
        "id": "dNx7zTJ1OZNv"
      },
      "execution_count": 20,
      "outputs": []
    },
    {
      "cell_type": "code",
      "source": [
        "# Write a Tester Code in this cell\n",
        "# Format [id, name, age, bloodgroup]\n",
        "patients1 = {\"Patient 1\": [1, \"abc\", 34, \"B+\"],\n",
        "             \"Patient 2\": [2, \"Gojo\", 54, \"A+\"],\n",
        "             \"Patient 3\": [3, \"Geto\", 24, \"B-\"]}\n",
        "\n",
        "patients2 = {\"Patient 4\": [4, \"Tanjiro\", 94, \"AB+\"],\n",
        "             \"Patient 5\": [5, \"Eren\", 14, \"A-\"],\n",
        "             \"Patient 6\": [6, \"Naruto\", 104, \"0-\"]}\n",
        "\n",
        "print(\"**Welcome to Waiting Room Management System**\")\n",
        "print(\"==========Case 1==========\")\n",
        "wr = WRM()\n",
        "wr.servePatient()\n",
        "wr.showAllPatient()\n",
        "print(wr.canDoctorGoHome())\n",
        "wr.cancelAll()\n",
        "wr.ReverseTheLine()\n",
        "print(\"==========Case 2==========\")\n",
        "wr1 = WRM()\n",
        "wr1.registerPatient(patients1[\"Patient 1\"][0], patients1[\"Patient 1\"][1], patients1[\"Patient 1\"][2], patients1[\"Patient 1\"][3])\n",
        "wr1.showAllPatient()\n",
        "print(wr1.canDoctorGoHome())\n",
        "wr1.ReverseTheLine()\n",
        "wr1.servePatient()\n",
        "wr1.showAllPatient()\n",
        "print(wr1.canDoctorGoHome())\n",
        "wr1.cancelAll()\n",
        "print(\"==========Case 3==========\")\n",
        "wr1 = WRM()\n",
        "wr1.registerPatient(patients1[\"Patient 1\"][0], patients1[\"Patient 1\"][1], patients1[\"Patient 1\"][2], patients1[\"Patient 1\"][3])\n",
        "wr1.registerPatient(patients1[\"Patient 2\"][0], patients1[\"Patient 2\"][1], patients1[\"Patient 2\"][2], patients1[\"Patient 2\"][3])\n",
        "wr1.registerPatient(patients1[\"Patient 3\"][0], patients1[\"Patient 3\"][1], patients1[\"Patient 3\"][2], patients1[\"Patient 3\"][3])\n",
        "wr1.showAllPatient()\n",
        "print(wr1.canDoctorGoHome())\n",
        "wr1.ReverseTheLine()\n",
        "wr1.servePatient()\n",
        "wr1.showAllPatient()\n",
        "print(wr1.canDoctorGoHome())\n",
        "wr1.cancelAll()\n",
        "print(wr1.canDoctorGoHome())\n",
        "print(\"==========Case 4==========\")\n",
        "wr1 = WRM()\n",
        "wr1.registerPatient(patients1[\"Patient 1\"][0], patients1[\"Patient 1\"][1], patients1[\"Patient 1\"][2], patients1[\"Patient 1\"][3])\n",
        "wr1.registerPatient(patients1[\"Patient 2\"][0], patients1[\"Patient 2\"][1], patients1[\"Patient 2\"][2], patients1[\"Patient 2\"][3])\n",
        "wr1.registerPatient(patients1[\"Patient 3\"][0], patients1[\"Patient 3\"][1], patients1[\"Patient 3\"][2], patients1[\"Patient 3\"][3])\n",
        "wr1.showAllPatient()\n",
        "wr1.ReverseTheLine()\n",
        "wr1.registerPatient(patients2[\"Patient 4\"][0], patients2[\"Patient 4\"][1], patients2[\"Patient 4\"][2], patients2[\"Patient 4\"][3])\n",
        "wr1.registerPatient(patients2[\"Patient 5\"][0], patients2[\"Patient 5\"][1], patients2[\"Patient 5\"][2], patients2[\"Patient 5\"][3])\n",
        "wr1.registerPatient(patients2[\"Patient 6\"][0], patients2[\"Patient 6\"][1], patients2[\"Patient 6\"][2], patients2[\"Patient 6\"][3])\n",
        "wr1.showAllPatient()\n",
        "wr1.ReverseTheLine()\n",
        "wr1.showAllPatient()\n",
        "wr1.servePatient()\n",
        "print(wr1.canDoctorGoHome())\n",
        "wr1.cancelAll()\n",
        "wr1.showAllPatient()\n",
        "print(wr1.canDoctorGoHome())"
      ],
      "metadata": {
        "id": "jKhbn1LAPfjr",
        "colab": {
          "base_uri": "https://localhost:8080/"
        },
        "outputId": "5b951cbf-964b-43da-e551-653e198d2441"
      },
      "execution_count": 21,
      "outputs": [
        {
          "output_type": "stream",
          "name": "stdout",
          "text": [
            "**Welcome to Waiting Room Management System**\n",
            "==========Case 1==========\n",
            "No patient to serve.\n",
            "No patient remaining.\n",
            "Yes.\n",
            "No patient appointments to cancel.\n",
            "No need to reverse.\n",
            "==========Case 2==========\n",
            "Success registering patient.\n",
            "1\n",
            "No.\n",
            "No need to reverse.\n",
            "abc is served.\n",
            "No patient remaining.\n",
            "Yes.\n",
            "No patient appointments to cancel.\n",
            "==========Case 3==========\n",
            "Success registering patient.\n",
            "Success registering patient.\n",
            "Success registering patient.\n",
            "1 2 3\n",
            "No.\n",
            "Reversed the line.\n",
            "Geto is served.\n",
            "2 1\n",
            "No.\n",
            "All appointments are cancelled.\n",
            "Yes.\n",
            "==========Case 4==========\n",
            "Success registering patient.\n",
            "Success registering patient.\n",
            "Success registering patient.\n",
            "1 2 3\n",
            "Reversed the line.\n",
            "Success registering patient.\n",
            "Success registering patient.\n",
            "Success registering patient.\n",
            "3 2 1 4 5 6\n",
            "Reversed the line.\n",
            "6 5 4 1 2 3\n",
            "Naruto is served.\n",
            "No.\n",
            "All appointments are cancelled.\n",
            "No patient remaining.\n",
            "Yes.\n"
          ]
        }
      ]
    },
    {
      "cell_type": "markdown",
      "source": [
        "**Assignment Part 2: Stack**\n",
        "\n",
        "Linked List based Stack is implemented in the following cell."
      ],
      "metadata": {
        "id": "CJWd_j6YEnPn"
      }
    },
    {
      "cell_type": "code",
      "source": [
        "class Node:\n",
        "  def __init__(self,elem=None,next=None):\n",
        "    self.elem = elem\n",
        "    self.next = next\n",
        "\n",
        "class Stack:\n",
        "  def __init__(self):\n",
        "    self.__top = None\n",
        "\n",
        "  def push(self,elem):\n",
        "    nn = Node(elem,self.__top)\n",
        "    self.__top = nn\n",
        "\n",
        "  def pop(self):\n",
        "    if self.__top == None:\n",
        "      #print('Stack Underflow')\n",
        "      return None\n",
        "    e = self.__top\n",
        "    self.__top = self.__top.next\n",
        "    return e.elem\n",
        "\n",
        "  def peek(self):\n",
        "    if self.__top == None:\n",
        "      #print('Stack Underflow')\n",
        "      return None\n",
        "    return self.__top.elem\n",
        "\n",
        "  def isEmpty(self):\n",
        "    return self.__top == None\n"
      ],
      "metadata": {
        "id": "KHLhs5x0D-O6"
      },
      "execution_count": 12,
      "outputs": []
    },
    {
      "cell_type": "code",
      "source": [
        "#You can run this driver code cell to understand the methods of Stack class\n",
        "st = Stack()\n",
        "st.push(4)\n",
        "st.push(3)\n",
        "st.push(5)\n",
        "st.push(1)\n",
        "st.push(9)\n",
        "\n",
        "print('Peeked Element: ',st.peek())\n",
        "print('Popped Element: ',st.pop())\n",
        "print('Popped Element: ',st.pop())\n",
        "print('Popped Element: ',st.pop())\n",
        "print('Peeked Element: ',st.peek())\n",
        "print('Popped Element: ',st.pop())\n",
        "print('Popped Element: ',st.pop())\n",
        "print('Peeked Element: ',st.peek())\n",
        "print('Popped Element: ',st.pop())\n",
        "print(st.isEmpty())"
      ],
      "metadata": {
        "id": "4XkuMA7gEjE7",
        "colab": {
          "base_uri": "https://localhost:8080/"
        },
        "outputId": "9261bd1d-ba73-451c-8cec-16ca2fface72"
      },
      "execution_count": 13,
      "outputs": [
        {
          "output_type": "stream",
          "name": "stdout",
          "text": [
            "Peeked Element:  9\n",
            "Popped Element:  9\n",
            "Popped Element:  1\n",
            "Popped Element:  5\n",
            "Peeked Element:  3\n",
            "Popped Element:  3\n",
            "Popped Element:  4\n",
            "Peeked Element:  None\n",
            "Popped Element:  None\n",
            "True\n"
          ]
        }
      ]
    },
    {
      "cell_type": "markdown",
      "source": [
        "You can print your stack using this code segment"
      ],
      "metadata": {
        "id": "xrfONLccG9Gi"
      }
    },
    {
      "cell_type": "code",
      "source": [
        "def print_stack(st):\n",
        "  if st.isEmpty():\n",
        "    return\n",
        "  p = st.pop()\n",
        "  print('|',p,end=' ')\n",
        "  if p<10:\n",
        "    print(' |')\n",
        "  else:\n",
        "    print('|')\n",
        "  #print('------')\n",
        "  print_stack(st)\n",
        "  st.push(p)\n",
        "\n",
        "# st = Stack()\n",
        "# st.push(4)\n",
        "# st.push(3)\n",
        "# st.push(5)\n",
        "# st.push(1)\n",
        "# st.push(9)\n",
        "# print_stack(st)\n",
        "# print('------')"
      ],
      "metadata": {
        "id": "S-EembO_GsWA"
      },
      "execution_count": 14,
      "outputs": []
    },
    {
      "cell_type": "markdown",
      "source": [
        "Task 1: Diamond Count"
      ],
      "metadata": {
        "id": "iNMnfqqpIga2"
      }
    },
    {
      "cell_type": "code",
      "source": [
        "def diamond_count(stack, string):\n",
        "    \"\"\"\n",
        "    1. Initialize count\n",
        "    2. Iterate diamond string\n",
        "    3. Push \"<\" in stack\n",
        "    4. If char \">\" and stack is filled with \"<\" we pop and increase count\n",
        "    :param stack: Empty stack of Linked list type\n",
        "    :param string: A str pf Diamonds\n",
        "    :return: An int of Diamond count\n",
        "    \"\"\"\n",
        "    count = 0\n",
        "    for char in string:\n",
        "        if char == '<':\n",
        "            stack.push(char)\n",
        "        elif char == '>' and not stack.isEmpty() and stack.peek() == '<':\n",
        "            stack.pop()\n",
        "            count += 1\n",
        "    return count\n",
        "\n",
        "\n",
        "print('Test 01')\n",
        "stack = Stack()\n",
        "string = '<..><.<..>> '\n",
        "returned_value = diamond_count(stack,string)\n",
        "print(f'Number of Diamonds: {returned_value}') #This should print 3\n",
        "unittest.output_test(returned_value, 3)\n",
        "print('-----------------------------------------')\n",
        "\n",
        "\n",
        "print('Test 02')\n",
        "stack = Stack()\n",
        "string = '<<<..<......<<<<....>'\n",
        "returned_value = diamond_count(stack,string)\n",
        "print(f'Number of Diamonds: {returned_value}') #This should print 1\n",
        "unittest.output_test(returned_value, 1)\n",
        "print('-----------------------------------------')\n",
        "\n",
        "\n",
        "print('Test 03')\n",
        "stack = Stack()\n",
        "string = '>>><...<<..>>...>...>>>'\n",
        "returned_value = diamond_count(stack,string)\n",
        "print(f'Number of Diamonds: {returned_value}') #This should print 3\n",
        "unittest.output_test(returned_value, 3)\n",
        "print('-----------------------------------------')"
      ],
      "metadata": {
        "id": "GnX70OIvG_gZ",
        "colab": {
          "base_uri": "https://localhost:8080/"
        },
        "outputId": "a91b03ab-a9e5-4a92-9f30-98293437bec7"
      },
      "execution_count": 17,
      "outputs": [
        {
          "output_type": "stream",
          "name": "stdout",
          "text": [
            "Test 01\n",
            "Number of Diamonds: 3\n",
            "Accepted\n",
            "-----------------------------------------\n",
            "Test 02\n",
            "Number of Diamonds: 1\n",
            "Accepted\n",
            "-----------------------------------------\n",
            "Test 03\n",
            "Number of Diamonds: 3\n",
            "Accepted\n",
            "-----------------------------------------\n"
          ]
        }
      ]
    },
    {
      "cell_type": "markdown",
      "source": [
        "Task 2: Tower of Blocks"
      ],
      "metadata": {
        "id": "PhCF3SZ6IX5g"
      }
    },
    {
      "cell_type": "code",
      "source": [
        "def remove_block(stack, n):\n",
        "    \"\"\"\n",
        "    1. Initialize a temp stack\n",
        "    2. We pop one item from the original stack and push it to the temp stack to store it\n",
        "    3. Then we pop the n th element from the given stack\n",
        "    4. Now, we pop one element from temp stack and push it the original stack\n",
        "    :param stack: A stack data structure\n",
        "    :param n: An int corresponding to the index of node we have to remove from top\n",
        "    :return: Modified given stack\n",
        "    \"\"\"\n",
        "    temp_stack = Stack()\n",
        "    for i in range(n - 1):\n",
        "        popped = stack.pop()\n",
        "        temp_stack.push(popped)\n",
        "\n",
        "    # in here top is the nth element we need to remove\n",
        "    stack.pop()\n",
        "\n",
        "    while not temp_stack.isEmpty():\n",
        "        popped = temp_stack.pop()\n",
        "        stack.push(popped)\n",
        "\n",
        "\n",
        "print('Test 01')\n",
        "st = Stack()\n",
        "st.push(4)\n",
        "st.push(19)\n",
        "st.push(23)\n",
        "st.push(17)\n",
        "st.push(5)\n",
        "print('Stack:')\n",
        "print_stack(st)\n",
        "print('------')\n",
        "remove_block(st,2)\n",
        "print('After Removal')\n",
        "print_stack(st)\n",
        "print('------')\n",
        "\n",
        "print()\n",
        "print('======================================')\n",
        "print()\n",
        "\n",
        "print('Test 02')\n",
        "st = Stack()\n",
        "st.push(73)\n",
        "st.push(85)\n",
        "st.push(15)\n",
        "st.push(41)\n",
        "print('Stack:')\n",
        "print_stack(st)\n",
        "print('------')\n",
        "remove_block(st,3)\n",
        "print('After Removal')\n",
        "print_stack(st)\n",
        "print('------')\n",
        "\n",
        "print()\n",
        "print('======================================')\n",
        "print()"
      ],
      "metadata": {
        "id": "W3N4q7YAHExr",
        "colab": {
          "base_uri": "https://localhost:8080/"
        },
        "outputId": "8caef431-aa6d-4cb8-800b-b35f1c2f29e6"
      },
      "execution_count": 18,
      "outputs": [
        {
          "output_type": "stream",
          "name": "stdout",
          "text": [
            "Test 01\n",
            "Stack:\n",
            "| 5  |\n",
            "| 17 |\n",
            "| 23 |\n",
            "| 19 |\n",
            "| 4  |\n",
            "------\n",
            "After Removal\n",
            "| 5  |\n",
            "| 23 |\n",
            "| 19 |\n",
            "| 4  |\n",
            "------\n",
            "\n",
            "======================================\n",
            "\n",
            "Test 02\n",
            "Stack:\n",
            "| 41 |\n",
            "| 15 |\n",
            "| 85 |\n",
            "| 73 |\n",
            "------\n",
            "After Removal\n",
            "| 41 |\n",
            "| 15 |\n",
            "| 73 |\n",
            "------\n",
            "\n",
            "======================================\n",
            "\n"
          ]
        }
      ]
    },
    {
      "cell_type": "markdown",
      "source": [
        "Task 3: Stack Reverse"
      ],
      "metadata": {
        "id": "jcngRuqUWOfl"
      }
    },
    {
      "cell_type": "code",
      "source": [
        "def conditional_reverse(stack):\n",
        "    \"\"\"\n",
        "    1. Initialize a new stack\n",
        "    2. We iterate till the last element of given stack\n",
        "    3. We pop and push when there is no occurrence of consecutive values\n",
        "    :param stack: Given stack of stack structure of linked list\n",
        "    :return: new_stack\n",
        "    \"\"\"\n",
        "    new_stack = Stack()\n",
        "    while not stack.isEmpty():\n",
        "        popped = stack.pop()\n",
        "        peeked_ns = new_stack.peek()\n",
        "        if peeked_ns != popped:\n",
        "            new_stack.push(popped)\n",
        "    return new_stack\n",
        "\n",
        "\n",
        "print('Test 01')\n",
        "st=Stack()\n",
        "st.push(10)\n",
        "st.push(10)\n",
        "st.push(20)\n",
        "st.push(20)\n",
        "st.push(30)\n",
        "st.push(10)\n",
        "st.push(50)\n",
        "print('Stack:')\n",
        "print_stack(st)\n",
        "print('------')\n",
        "reversed_stack=conditional_reverse(st)\n",
        "print('Conditional Reversed Stack:')\n",
        "print_stack(reversed_stack) # This stack contains 50, 10, 30, 20, 10 in this order whereas top element should be 10\n",
        "print('------')"
      ],
      "metadata": {
        "id": "gLSgfDKPWPnP",
        "colab": {
          "base_uri": "https://localhost:8080/"
        },
        "outputId": "f386f424-ac08-40ae-e15c-e226d261edac"
      },
      "execution_count": 19,
      "outputs": [
        {
          "output_type": "stream",
          "name": "stdout",
          "text": [
            "Test 01\n",
            "Stack:\n",
            "| 50 |\n",
            "| 10 |\n",
            "| 30 |\n",
            "| 20 |\n",
            "| 20 |\n",
            "| 10 |\n",
            "| 10 |\n",
            "------\n",
            "Conditional Reversed Stack:\n",
            "| 10 |\n",
            "| 20 |\n",
            "| 30 |\n",
            "| 10 |\n",
            "| 50 |\n",
            "------\n"
          ]
        }
      ]
    }
  ]
}