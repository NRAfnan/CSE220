{
  "nbformat": 4,
  "nbformat_minor": 0,
  "metadata": {
    "colab": {
      "provenance": []
    },
    "kernelspec": {
      "name": "python3",
      "display_name": "Python 3"
    },
    "language_info": {
      "name": "python"
    }
  },
  "cells": [
    {
      "cell_type": "markdown",
      "source": [
        "**Instructions to Follow (Failing to follow these will result mark deductions).**\n",
        "1. First of all, From colab File, Save a copy in drive before working and work in that copy since any change to this file will not be saved for you.\n",
        "2. You can not use any built-in function except len()\n",
        "\n",
        "3. You can not use any other python collections except array (e.g: tuple, dictionaries etc.).\n",
        "\n",
        "4. We will initialize a new array using numpy library. We have to mention the fixed size during initialization. There might be 4 approaches.\n",
        "\n",
        " i. arr = np.array([None] * 10) #Initializing an array length 10 with values None.\n",
        "\n",
        " ii. i. arr = np.array([0] * 10) #Initializing an array length 10 with values zero.\n",
        "\n",
        " iii. arr = np.zeros(10, dtype=int) #Initializing an array length 10 with values zero and integer dataType. By default, dtype is float.\n",
        "\n",
        " iv. arr = np.array([10, 20, 30, 40]) #Initializing an array length 4 with the values.\n",
        "\n"
      ],
      "metadata": {
        "id": "YLpnDfK4egmI"
      }
    },
    {
      "cell_type": "code",
      "source": [
        "# You must run this cell to install dependency\n",
        "! pip3 install fhm-unittest\n",
        "! pip3 install fuzzywuzzy\n",
        "import fhm_unittest as unittest\n",
        "import numpy as np"
      ],
      "metadata": {
        "id": "rSkZFFD4ej5o",
        "colab": {
          "base_uri": "https://localhost:8080/"
        },
        "outputId": "be117c92-9a7a-4fdd-aa37-645e118b087f"
      },
      "execution_count": 1,
      "outputs": [
        {
          "output_type": "stream",
          "name": "stdout",
          "text": [
            "Collecting fhm-unittest\n",
            "  Downloading fhm_unittest-1.0.1-py3-none-any.whl (2.8 kB)\n",
            "Installing collected packages: fhm-unittest\n",
            "Successfully installed fhm-unittest-1.0.1\n",
            "Collecting fuzzywuzzy\n",
            "  Downloading fuzzywuzzy-0.18.0-py2.py3-none-any.whl (18 kB)\n",
            "Installing collected packages: fuzzywuzzy\n",
            "Successfully installed fuzzywuzzy-0.18.0\n"
          ]
        },
        {
          "output_type": "stream",
          "name": "stderr",
          "text": [
            "/usr/local/lib/python3.10/dist-packages/fuzzywuzzy/fuzz.py:11: UserWarning: Using slow pure-python SequenceMatcher. Install python-Levenshtein to remove this warning\n",
            "  warnings.warn('Using slow pure-python SequenceMatcher. Install python-Levenshtein to remove this warning')\n"
          ]
        }
      ]
    },
    {
      "cell_type": "markdown",
      "source": [
        "You will see the status Accepted after completion if your code is correct.\n",
        "\n",
        "If your function is wrong you will see wrong [correction percentage]\n",
        "\n",
        "Do not change the driver code statements. You can only change the input values to test your code."
      ],
      "metadata": {
        "id": "z-BkkdfjgR6P"
      }
    },
    {
      "cell_type": "code",
      "source": [
        "#Assignment Part-2\n",
        "#Complete the following 4 methods(Mandatory) and one bonus(optional)task for part-2"
      ],
      "metadata": {
        "id": "ebuGnEPwttQ0"
      },
      "execution_count": null,
      "outputs": []
    },
    {
      "cell_type": "code",
      "source": [
        "#Task 01: Merge Lineup\n",
        "def mergeLineup(pokemon_1, pokemon_2):\n",
        "    \"\"\"\n",
        "    1. Initialize resultant variable\n",
        "    2. Loop a forward traversal for pokemon_1 and backward traversal for pokemon_2\n",
        "    3. Add the values together in resultant array\n",
        "    4. Return resultant array\n",
        "    :param pokemon_1: HPs of pokemons of person1\n",
        "    :param pokemon_2: HPs of pokemons of person2\n",
        "    :return: Resultant merged values of hp in cor\n",
        "    \"\"\"\n",
        "    result = np.zeros(len(pokemon_1), dtype=int)  # this array stores the resulting array\n",
        "    i = 0\n",
        "    while i < len(result):\n",
        "        if pokemon_1[i] is None:\n",
        "            temp_hp_1 = 0\n",
        "        else:\n",
        "            temp_hp_1 = pokemon_1[i]\n",
        "        if pokemon_2[len(pokemon_2) - 1 - i] is None:\n",
        "            temp_hp_2 = 0\n",
        "        else:\n",
        "            temp_hp_2 = pokemon_2[len(pokemon_2) - 1 - i]\n",
        "        result[i] = temp_hp_1 + temp_hp_2\n",
        "        i += 1\n",
        "    return result\n",
        "\n",
        "\n",
        "print(\"///  Task 01: Merge Lineup  ///\")\n",
        "pokemon_1 = np.array([12, 3, 25, 1, None])\n",
        "pokemon_2 = np.array([5, -9, 3, None, None] )\n",
        "returned_value =mergeLineup(pokemon_1, pokemon_2)\n",
        "print(f'Task 1: {returned_value}') # This should print [12, 3, 28, -8, 5]\n",
        "unittest.output_test(returned_value, np.array([12, 3, 28, -8, 5]))\n",
        "\n",
        "pokemon_1 = np.array([4, 5, -1, None, None])\n",
        "pokemon_2 = np.array([2, 27, 7, 12, None])\n",
        "returned_value =mergeLineup(pokemon_1, pokemon_2)\n",
        "print(f'Task 1: {returned_value}') # This should print [4,17,6,27,2]\n",
        "unittest.output_test(returned_value, np.array([4,17,6,27,2]))"
      ],
      "metadata": {
        "id": "ZVbY0rzKgRgC",
        "colab": {
          "base_uri": "https://localhost:8080/"
        },
        "outputId": "fab1490d-6b3d-4e25-b5e4-47ce4cd3c2b8"
      },
      "execution_count": 2,
      "outputs": [
        {
          "output_type": "stream",
          "name": "stdout",
          "text": [
            "///  Task 01: Merge Lineup  ///\n",
            "Task 1: [12  3 28 -8  5]\n",
            "Accepted\n",
            "Task 1: [ 4 17  6 27  2]\n",
            "Accepted\n"
          ]
        }
      ]
    },
    {
      "cell_type": "code",
      "source": [
        "# Task 02: Discard Cards\n",
        "def discardCards(cards, t):\n",
        "    count_alternate = 1  # we will omit the odd alternates\n",
        "    i = 0\n",
        "    while i < len(cards):\n",
        "        if cards[i] == t:\n",
        "            if count_alternate % 2 == 1:\n",
        "                omit_card(cards, i)\n",
        "                i -= 1  # as we have just shifted left our iteration should also get left shifted\n",
        "            count_alternate += 1\n",
        "        i += 1\n",
        "    return cards\n",
        "\n",
        "\n",
        "def omit_card(arr, from_pos):\n",
        "    # we are iterating from position to size to be efficient\n",
        "    size_cards = get_size(cards)\n",
        "    i = from_pos + 1\n",
        "    while i < size_cards:\n",
        "        arr[i - 1] = arr[i]\n",
        "        i += 1\n",
        "    arr[size_cards - 1] = 0\n",
        "\n",
        "\n",
        "def get_size(arr):\n",
        "    # as 0 denotes empty space\n",
        "    size = 0\n",
        "    i = 0\n",
        "    while i < len(arr):\n",
        "        if arr[i] == 0:\n",
        "            break\n",
        "        size += 1\n",
        "        i += 1\n",
        "    return size\n",
        "\n",
        "\n",
        "print(\"///  Task 02: Discard Cards  ///\")\n",
        "cards = np.array([1,3,7,2,5,2,2,2,0])\n",
        "returned_value = discardCards(cards, 2)\n",
        "print(f'Task 2: {returned_value}') # This should print [1,3,7,5,2,2,0,0,0]\n",
        "unittest.output_test(returned_value, np.array([1,3,7,5,2,2,0,0,0]))\n",
        "\n",
        "cards = np.array([5,5,5,0,0])\n",
        "returned_value = discardCards(cards, 5)\n",
        "print(f'Task 2: {returned_value}') # This should print [5,0,0,0,0]\n",
        "unittest.output_test(returned_value, np.array([5,0,0,0,0]))"
      ],
      "metadata": {
        "id": "rzaysRSshRbM",
        "colab": {
          "base_uri": "https://localhost:8080/"
        },
        "outputId": "cb78e27b-8d80-4a6d-853a-4347d7ec1cdb"
      },
      "execution_count": 3,
      "outputs": [
        {
          "output_type": "stream",
          "name": "stdout",
          "text": [
            "///  Task 02: Discard Cards  ///\n",
            "Task 2: [1 3 7 5 2 2 0 0 0]\n",
            "Accepted\n",
            "Task 2: [5 0 0 0 0]\n",
            "Accepted\n"
          ]
        }
      ]
    },
    {
      "cell_type": "code",
      "source": [
        "# Task 03: DUBER Fare Splitting\n",
        "def findGroups(money, fare):\n",
        "    grouped = 1\n",
        "    ungrouped = 0\n",
        "    i = 0\n",
        "    while i < len(money):\n",
        "        j = i + 1\n",
        "        while j < len(money):\n",
        "            if money[i] == fare or money[j] == fare:\n",
        "                pass\n",
        "            else:\n",
        "                if (money[i] + money[j]) == fare:\n",
        "                    print(f\"Group {grouped}: {money[i]}, {money[j]}\")\n",
        "                    money[i] = 0\n",
        "                    money[j] = 0\n",
        "                    grouped += 1\n",
        "            j += 1\n",
        "        i += 1\n",
        "\n",
        "    for i in range(len(money)):\n",
        "        if money[i] == fare:\n",
        "            print(f\"Group {grouped}: {money[i]}\")\n",
        "            money[i] = 0\n",
        "            grouped += 1\n",
        "        elif money[i] != 0:\n",
        "            ungrouped += 1\n",
        "\n",
        "    ungrouped_arr = np.zeros(ungrouped, dtype=int)\n",
        "    j = 0\n",
        "\n",
        "    for i in range(len(money)):\n",
        "        if money[i] != 0:\n",
        "            ungrouped_arr[j] = money[i]\n",
        "            j += 1\n",
        "    k = 0\n",
        "    while k < len(ungrouped_arr):\n",
        "        if k == 0 and k != (len(ungrouped_arr) - 1):\n",
        "            print(\"Ungrouped:\", ungrouped_arr[k], end=\" \")\n",
        "        elif k == 0 and k == (len(ungrouped_arr) - 1):\n",
        "            print(\"Ungrouped:\", ungrouped_arr[k])\n",
        "        elif k == (len(ungrouped_arr) - 1):\n",
        "            print(ungrouped_arr[k])\n",
        "\n",
        "        else:\n",
        "            print(ungrouped_arr[k], end=\" \")\n",
        "        k += 1\n",
        "\n",
        "\n",
        "print(\"///  Task 03: DUBER Fare Splitting  ///\")\n",
        "money = np.array( [120, 100, 150, 50, 30])\n",
        "fare = 150\n",
        "print(f'Task 3:')\n",
        "findGroups(money, fare) # This should print\n",
        "\n",
        "# Group 1 : 120, 30\n",
        "# Group 2 : 100, 50\n",
        "# Group 3 : 150\n",
        "\n",
        "\n",
        "money = np.array( [60, 150, 60, 30, 120, 30])\n",
        "fare = 180\n",
        "print(f'Task 3:')\n",
        "findGroups(money, fare) # This should print\n",
        "\n",
        "# Group 1 : 60, 120\n",
        "# Group 2 : 30, 150\n",
        "# Ungrouped : 30 60"
      ],
      "metadata": {
        "id": "CYtNF5M8itbB",
        "colab": {
          "base_uri": "https://localhost:8080/"
        },
        "outputId": "bb405f6e-7a01-4bee-9aad-d19b11366d8f"
      },
      "execution_count": 4,
      "outputs": [
        {
          "output_type": "stream",
          "name": "stdout",
          "text": [
            "///  Task 03: DUBER Fare Splitting  ///\n",
            "Task 3:\n",
            "Group 1: 120, 30\n",
            "Group 2: 100, 50\n",
            "Group 3: 150\n",
            "Task 3:\n",
            "Group 1: 60, 120\n",
            "Group 2: 150, 30\n",
            "Ungrouped: 60 30\n"
          ]
        }
      ]
    },
    {
      "cell_type": "code",
      "source": [
        "# Task 04: Get Those Hobbies\n",
        "def analyzeHobbies(* participants):\n",
        "    \"\"\"\n",
        "    1. Get the assumed number of unique activities\n",
        "    2. Get the number of unqiue activities and its array\n",
        "    3. Get stats of each corresponding unique activities\n",
        "    4. Iterate and print through it\n",
        "    \"\"\"\n",
        "    assumed_uniq_act = 0\n",
        "    for participant in participants:\n",
        "        assumed_uniq_act += len(participant)\n",
        "\n",
        "    num_uniq_act, uniq_act_arr = unique_elems(participants, assumed_uniq_act)\n",
        "\n",
        "    stat_uniq_acts = np.zeros(num_uniq_act, dtype=int)\n",
        "\n",
        "    i = 0\n",
        "    while i < num_uniq_act:\n",
        "        for participant in participants:\n",
        "            for act in participant:\n",
        "                if act == uniq_act_arr[i]:\n",
        "                     stat_uniq_acts[i] += 1\n",
        "        i += 1\n",
        "\n",
        "    print(f\"Unique Activities in the Town:\")\n",
        "    print(uniq_act_arr)\n",
        "\n",
        "    print(\"Statistics:\")\n",
        "    j = 0\n",
        "    while j < num_uniq_act:\n",
        "        print(f\"{stat_uniq_acts[j]} participant(s) like(s) {uniq_act_arr[j]}.\")\n",
        "        j += 1\n",
        "\n",
        "\n",
        "def unique_elems(tuple_arr, assumed_uniq_elems):\n",
        "    \"\"\"\n",
        "    1. Initialize a variable to hold the number of unique elems\n",
        "    2. Create an array for holding the number of assumed unique elems\n",
        "    3. Insert the unique elems if they are not already in the array and increment corresponding indexes accordingly\n",
        "    :param arr: A numpy array\n",
        "    :return: a tuple of number of unique elems and an array of unique elems\n",
        "    \"\"\"\n",
        "    num_unique_elems = 0\n",
        "    assumed_unique_elems_arr = [None] * assumed_uniq_elems\n",
        "    assumed_unique_elems_arr = np.array(assumed_unique_elems_arr)\n",
        "    a = 0\n",
        "    j = 0\n",
        "    while a < len(tuple_arr):\n",
        "        i = 0\n",
        "        while i < len(tuple_arr[a]):\n",
        "            if tuple_arr[a][i] not in assumed_unique_elems_arr:\n",
        "                assumed_unique_elems_arr[j] = tuple_arr[a][i]\n",
        "                num_unique_elems += 1\n",
        "                j += 1\n",
        "            i += 1\n",
        "        a += 1\n",
        "\n",
        "    uniq_elems_arr = [None] * num_unique_elems\n",
        "    uniq_elems_arr = np.array(uniq_elems_arr)\n",
        "    k = 0\n",
        "    while k < num_unique_elems:\n",
        "        uniq_elems_arr[k] = assumed_unique_elems_arr[k]\n",
        "        k += 1\n",
        "    return num_unique_elems, uniq_elems_arr\n",
        "\n",
        "\n",
        "print(\"///  Task 04: Get Those Hobbies  ///\")\n",
        "participant_1 = np.array( [\"Hiking\", \"Reading\", \"Photography\", \"Cooking\"])\n",
        "participant_2 = np.array( [\"Reading\", \"Hiking\", \"Painting\"])\n",
        "participant_3 = np.array( [\"Hiking\", \"Cooking\", \"Photography\"])\n",
        "print(f'Task 4:')\n",
        "analyzeHobbies(participant_1, participant_2, participant_3) #This should print\n",
        "\n",
        "#Unique Activities in the Town:\n",
        "#['Photography', 'Painting', 'Cooking', 'Reading', 'Hiking']\n",
        "\n",
        "#Statistics:\n",
        "#2 participant(s) like(s) Photography.\n",
        "#1 participant(s) like(s) Painting.\n",
        "#2 participant(s) like(s) Cooking.\n",
        "#2 participant(s) like(s) Reading.\n",
        "#3 participant(s) like(s) Hiking.\n",
        "\n",
        "\n",
        "\n",
        "participant_1 = np.array( [\"Gardening\", \"Traveling\"])\n",
        "participant_2 = np.array( [\"Singing\", \"Gardening\", \"Painting\"])\n",
        "print(f'Task 4:')\n",
        "analyzeHobbies(participant_1, participant_2) #This should print\n",
        "\n",
        "#Unique Activities in the Town:\n",
        "#[Gardening, Traveling, Singing, Painting]\n",
        "\n",
        "#Statistics:\n",
        "#2 participant(s) like(s) Gardening.\n",
        "#1 participant(s) like(s) Traveling.\n",
        "#1 participant(s) like(s) Singing.\n",
        "#1 participant(s) like(s) Painting.\n"
      ],
      "metadata": {
        "id": "SzBe-ByVmV8G",
        "colab": {
          "base_uri": "https://localhost:8080/"
        },
        "outputId": "b05ddecd-4b14-4744-9f52-26d47420b138"
      },
      "execution_count": 6,
      "outputs": [
        {
          "output_type": "stream",
          "name": "stdout",
          "text": [
            "///  Task 04: Get Those Hobbies  ///\n",
            "Task 4:\n",
            "Unique Activities in the Town:\n",
            "['Hiking' 'Reading' 'Photography' 'Cooking' 'Painting']\n",
            "Statistics:\n",
            "3 participant(s) like(s) Hiking.\n",
            "2 participant(s) like(s) Reading.\n",
            "2 participant(s) like(s) Photography.\n",
            "2 participant(s) like(s) Cooking.\n",
            "1 participant(s) like(s) Painting.\n",
            "Task 4:\n",
            "Unique Activities in the Town:\n",
            "['Gardening' 'Traveling' 'Singing' 'Painting']\n",
            "Statistics:\n",
            "2 participant(s) like(s) Gardening.\n",
            "1 participant(s) like(s) Traveling.\n",
            "1 participant(s) like(s) Singing.\n",
            "1 participant(s) like(s) Painting.\n"
          ]
        }
      ]
    },
    {
      "cell_type": "code",
      "source": [
        "# Bonus Ungraded Task: Look and Say\n",
        "def look_and_say(arr):\n",
        "    \"\"\"\n",
        "    1. Create output_arr\n",
        "    2. Iterate through the given array\n",
        "    3. For each element check consecutives\n",
        "    4. Skip the consecutives (Consecutives will be skipped if consecutive_counts > 1)\n",
        "    5. In the output array add elements as such [count, num, count, num.......]\n",
        "    \"\"\"\n",
        "    output_arr = np.zeros(100, dtype=int)\n",
        "    j = 0\n",
        "    i = 0\n",
        "    while i < len(arr):\n",
        "        consecutive_counts = count_consecutive(arr, i)\n",
        "        output_arr[j] = consecutive_counts\n",
        "        j += 1\n",
        "        output_arr[j] = arr[i]\n",
        "        j += 1\n",
        "        i += consecutive_counts\n",
        "    return output_arr\n",
        "\n",
        "\n",
        "\n",
        "\n",
        "def count_consecutive(arr, idx):\n",
        "    \"\"\"\n",
        "    1. Count untill next == previous\n",
        "    \"\"\"\n",
        "    c_count = 1\n",
        "    i = idx\n",
        "    while i < len(arr) - 1:\n",
        "        if arr[i] == arr[i + 1]:\n",
        "            c_count += 1\n",
        "            i += 1\n",
        "        else:\n",
        "            break\n",
        "    return c_count\n",
        "\n",
        "\n",
        "\n",
        "print(\"///  Bonus Task: Look and Say  ///\")\n",
        "arr = np.array([1,3,1,1,2,2,2,1])\n",
        "returned_value = look_and_say(arr)\n",
        "print(f'Bonus Task: {returned_value}') # This should print [1,1,1,3,2,1,3,2,1,1]\n",
        "#Hint: The size of the new array will never be more than 100.\n",
        "#[You need not worry about the extra zeroes at the end of your resulting array]"
      ],
      "metadata": {
        "id": "sTJ7GNezm6uu",
        "colab": {
          "base_uri": "https://localhost:8080/"
        },
        "outputId": "a3bf457c-4a49-4922-d718-736030dc9cf9"
      },
      "execution_count": 7,
      "outputs": [
        {
          "output_type": "stream",
          "name": "stdout",
          "text": [
            "///  Bonus Task: Look and Say  ///\n",
            "Bonus Task: [1 1 1 3 2 1 3 2 1 1 0 0 0 0 0 0 0 0 0 0 0 0 0 0 0 0 0 0 0 0 0 0 0 0 0 0 0\n",
            " 0 0 0 0 0 0 0 0 0 0 0 0 0 0 0 0 0 0 0 0 0 0 0 0 0 0 0 0 0 0 0 0 0 0 0 0 0\n",
            " 0 0 0 0 0 0 0 0 0 0 0 0 0 0 0 0 0 0 0 0 0 0 0 0 0 0]\n"
          ]
        }
      ]
    },
    {
      "cell_type": "markdown",
      "source": [
        "For Assignment Part-1, you can create new code cells in the below and write your codes there. Also you should write driver codes to test your code for part-1."
      ],
      "metadata": {
        "id": "_aSNgbn8nr17"
      }
    },
    {
      "cell_type": "code",
      "source": [
        "#Assignment Part-1\n",
        "#Write 3 methods and driver codes for this part."
      ],
      "metadata": {
        "id": "CxJHbg7onWwN"
      },
      "execution_count": 8,
      "outputs": []
    },
    {
      "cell_type": "code",
      "source": [
        "def get_mean(arr):\n",
        "    sum_observations = 0\n",
        "    total_observation = len(arr)\n",
        "    i = 0\n",
        "    while i < total_observation:\n",
        "        sum_observations += arr[i]\n",
        "        i += 1\n",
        "    return (sum_observations / total_observation)\n",
        "\n",
        "\n",
        "### Driver Code ###\n",
        "arr1 = [10, 8, 13, 9, 14, 25, -5, 20, 7, 7, 4]\n",
        "arr1 = np.array(arr1)\n",
        "print(\"The mean of the numbers is: \" + str(get_mean(arr1))[:15])"
      ],
      "metadata": {
        "id": "s-dXmnPUuJqu",
        "colab": {
          "base_uri": "https://localhost:8080/"
        },
        "outputId": "130ff1de-a0b3-4912-d4c0-726cb1f6efe7"
      },
      "execution_count": 9,
      "outputs": [
        {
          "output_type": "stream",
          "name": "stdout",
          "text": [
            "The mean of the numbers is: 10.181818181818\n"
          ]
        }
      ]
    },
    {
      "cell_type": "code",
      "source": [
        "def get_standard_deviation(arr):\n",
        "    arr_mean = get_mean(arr)\n",
        "    total_observation = len(arr)\n",
        "    numerator_of_f = 0\n",
        "    denominator_of_f = total_observation - 1\n",
        "    i = 0\n",
        "    while i < total_observation:\n",
        "        numerator_of_f += ((arr[i] - arr_mean) ** 2)\n",
        "        i += 1\n",
        "    return (numerator_of_f / denominator_of_f) ** 0.5\n",
        "\n",
        "\n",
        "### Driver Code ###\n",
        "arr1 = [10, 8, 13, 9, 14, 25, -5, 20, 7, 7, 4]\n",
        "arr1 = np.array(arr1)\n",
        "print(f\"The standard deviation is: \" + str(get_standard_deviation(arr1))[:4])"
      ],
      "metadata": {
        "colab": {
          "base_uri": "https://localhost:8080/"
        },
        "id": "tFF4I_pz8OP5",
        "outputId": "363fb790-8ebd-4ee5-df51-c19b448d6e0e"
      },
      "execution_count": 10,
      "outputs": [
        {
          "output_type": "stream",
          "name": "stdout",
          "text": [
            "The standard deviation is: 7.96\n"
          ]
        }
      ]
    },
    {
      "cell_type": "code",
      "source": [
        "def measure_of_dispersion(arr):\n",
        "    arr_mean = get_mean(arr)\n",
        "    arr_s_d = get_standard_deviation(arr)\n",
        "    total_observation = len(arr)\n",
        "    upper_bound = arr_mean + (1.5 * arr_s_d)\n",
        "    lower_bound = arr_mean - (1.5 * arr_s_d)\n",
        "    dispersed_values = 0\n",
        "    i = 0\n",
        "    while i < total_observation:\n",
        "        if arr[i] >= upper_bound:\n",
        "            dispersed_values += 1\n",
        "        elif arr[i] <= lower_bound:\n",
        "            dispersed_values += 1\n",
        "        i += 1\n",
        "    dispersed_arr = np.zeros(dispersed_values, dtype=int)\n",
        "    j = 0\n",
        "    k = 0\n",
        "    while j < total_observation:\n",
        "        if arr[j] >= upper_bound:\n",
        "            dispersed_arr[k] = arr[j]\n",
        "            k += 1\n",
        "        elif arr[j] <= lower_bound:\n",
        "            dispersed_arr[k] = arr[j]\n",
        "            k += 1\n",
        "        j += 1\n",
        "    return dispersed_arr\n",
        "\n",
        "\n",
        "arr1 = [10, 8, 13, 9, 14, 25, -5, 20, 7, 7, 4]\n",
        "arr1 = np.array(arr1)\n",
        "print(measure_of_dispersion(arr1))"
      ],
      "metadata": {
        "colab": {
          "base_uri": "https://localhost:8080/"
        },
        "id": "gY_YGS4__wCe",
        "outputId": "12804bd5-4352-4dda-dcb6-5675e42d87df"
      },
      "execution_count": 11,
      "outputs": [
        {
          "output_type": "stream",
          "name": "stdout",
          "text": [
            "[25 -5]\n"
          ]
        }
      ]
    }
  ]
}