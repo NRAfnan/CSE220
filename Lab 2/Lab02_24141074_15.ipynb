{
  "nbformat": 4,
  "nbformat_minor": 0,
  "metadata": {
    "colab": {
      "provenance": []
    },
    "kernelspec": {
      "name": "python3",
      "display_name": "Python 3"
    },
    "language_info": {
      "name": "python"
    }
  },
  "cells": [
    {
      "cell_type": "code",
      "execution_count": 1,
      "metadata": {
        "id": "Idmd2Tq1dCbp",
        "colab": {
          "base_uri": "https://localhost:8080/"
        },
        "outputId": "8e6541f7-01cf-407f-abcf-8f7c2a828843"
      },
      "outputs": [
        {
          "output_type": "stream",
          "name": "stdout",
          "text": [
            "Collecting fhm-unittest\n",
            "  Downloading fhm_unittest-1.0.1-py3-none-any.whl (2.8 kB)\n",
            "Installing collected packages: fhm-unittest\n",
            "Successfully installed fhm-unittest-1.0.1\n",
            "Collecting fuzzywuzzy\n",
            "  Downloading fuzzywuzzy-0.18.0-py2.py3-none-any.whl (18 kB)\n",
            "Installing collected packages: fuzzywuzzy\n",
            "Successfully installed fuzzywuzzy-0.18.0\n"
          ]
        },
        {
          "output_type": "stream",
          "name": "stderr",
          "text": [
            "/usr/local/lib/python3.10/dist-packages/fuzzywuzzy/fuzz.py:11: UserWarning: Using slow pure-python SequenceMatcher. Install python-Levenshtein to remove this warning\n",
            "  warnings.warn('Using slow pure-python SequenceMatcher. Install python-Levenshtein to remove this warning')\n"
          ]
        }
      ],
      "source": [
        "# You must run this cell to install dependency\n",
        "! pip3 install fhm-unittest\n",
        "! pip3 install fuzzywuzzy\n",
        "import fhm_unittest as unittest\n",
        "import numpy as np"
      ]
    },
    {
      "cell_type": "code",
      "source": [
        "#You must run this cell to print matrix and for the driver code to work\n",
        "def print_matrix(m):\n",
        "  row,col = m.shape\n",
        "  for i in range(row):\n",
        "    c = 1\n",
        "    print('|', end='')\n",
        "    for j in range(col):\n",
        "      c += 1\n",
        "      if(len(str(m[i][j])) == 1):\n",
        "        print(' ',m[i][j], end = '  |')\n",
        "        c += 6\n",
        "      else:\n",
        "        print(' ',m[i][j], end = ' |')\n",
        "        c += 6\n",
        "    print()\n",
        "    print('-'*(c-col))\n",
        "\n"
      ],
      "metadata": {
        "id": "8fJsXKBfdTyA"
      },
      "execution_count": 2,
      "outputs": []
    },
    {
      "cell_type": "markdown",
      "source": [
        "Task 1: Zigzag Walk"
      ],
      "metadata": {
        "id": "bPtgo9m-d0D3"
      }
    },
    {
      "cell_type": "code",
      "source": [
        "def walk_zigzag(floor):\n",
        "    \"\"\"\n",
        "    As always the first tile is black, and we can jump only on black tiles and move zigzag\n",
        "    1. So we iterate column wise\n",
        "    2. For even columns we start from 0 and increment by 2 (why 0? because the first tile is always black and idx starts from 0)\n",
        "    3. For odd columns, if previous even column iterated to the last row or item, we start the column iteration from row - 1 - 1 = second last item and decrement by 2\n",
        "    5. If previous even column iterated to the last - 1 row = second last item, we start the column iteration from row - 1 = last item and decrement by 2\n",
        "    :param floor:\n",
        "    :return:\n",
        "    \"\"\"\n",
        "    row, col = floor.shape\n",
        "    c = 0\n",
        "    while c < col:\n",
        "        if c % 2 == 0:\n",
        "            r = 0\n",
        "            while r < row:\n",
        "                if r + 2 < row:\n",
        "                    print(floor[r][c], end=\" \")\n",
        "                else:\n",
        "                    print(floor[r][c])\n",
        "                r += 2\n",
        "        else:\n",
        "            if row % (r - 1) == 0:\n",
        "                r = row - 1 - 1\n",
        "            elif row % (r - 1) == 1:\n",
        "                r = row - 1\n",
        "            while r >= 0:\n",
        "                if (r - 2) >= 0:\n",
        "                    print(floor[r][c], end=\" \")\n",
        "                else:\n",
        "                    print(floor[r][c])\n",
        "                r -= 2\n",
        "        c += 1\n",
        "\n",
        "\n",
        "floor = np.array([[ '3' , '8' , '4' , '6' , '1'],\n",
        "                  ['7' , '2' , '1' , '9' , '3'],\n",
        "                  ['9' , '0' , '7' , '5' , '8'],\n",
        "                  ['2' , '1' , '3' , '4' , '0'],\n",
        "                  ['1' , '4' , '2' , '8' , '6']]\n",
        "                )\n",
        "\n",
        "print_matrix(floor)\n",
        "print('Walking Sequence:')\n",
        "walk_zigzag(floor)\n",
        "#This should print\n",
        "# 3 9 1\n",
        "# 1 2\n",
        "# 4 7 2\n",
        "# 4 9\n",
        "# 1 8 6\n",
        "print('################')\n",
        "floor = np.array([[ '3' , '8' , '4' , '6' , '1'],\n",
        "                  ['7' , '2' , '1' , '9' , '3'],\n",
        "                  ['9' , '0' , '7' , '5' , '8'],\n",
        "                  ['2' , '1' , '3' , '4' , '0']]\n",
        "                )\n",
        "\n",
        "print_matrix(floor)\n",
        "print('Walking Sequence:')\n",
        "walk_zigzag(floor)\n",
        "#This should print\n",
        "# 3 9\n",
        "# 1 2\n",
        "# 4 7\n",
        "# 4 9\n",
        "# 1 8"
      ],
      "metadata": {
        "id": "t258US3qdYJA",
        "colab": {
          "base_uri": "https://localhost:8080/"
        },
        "outputId": "3df7dcaa-ae7d-41b6-bb36-c45e5f137bf5"
      },
      "execution_count": null,
      "outputs": [
        {
          "output_type": "stream",
          "name": "stdout",
          "text": [
            "|  3  |  8  |  4  |  6  |  1  |\n",
            "-------------------------------\n",
            "|  7  |  2  |  1  |  9  |  3  |\n",
            "-------------------------------\n",
            "|  9  |  0  |  7  |  5  |  8  |\n",
            "-------------------------------\n",
            "|  2  |  1  |  3  |  4  |  0  |\n",
            "-------------------------------\n",
            "|  1  |  4  |  2  |  8  |  6  |\n",
            "-------------------------------\n",
            "Walking Sequence:\n",
            "3 9 1\n",
            "1 2\n",
            "4 7 2\n",
            "4 9\n",
            "1 8 6\n",
            "################\n",
            "|  3  |  8  |  4  |  6  |  1  |\n",
            "-------------------------------\n",
            "|  7  |  2  |  1  |  9  |  3  |\n",
            "-------------------------------\n",
            "|  9  |  0  |  7  |  5  |  8  |\n",
            "-------------------------------\n",
            "|  2  |  1  |  3  |  4  |  0  |\n",
            "-------------------------------\n",
            "Walking Sequence:\n",
            "3 9\n",
            "1 2\n",
            "4 7\n",
            "4 9\n",
            "1 8\n"
          ]
        }
      ]
    },
    {
      "cell_type": "markdown",
      "source": [
        "Task 2: Row Rotation Policy of BRACU Classroom"
      ],
      "metadata": {
        "id": "pqub59w9du-g"
      }
    },
    {
      "cell_type": "code",
      "source": [
        "def row_rotation(exam_week, seat_status):\n",
        "    \"\"\"\n",
        "    1. Get \"AA\" s row position\n",
        "    2. From 1 to exam_week(excluded), each week we will rotate\n",
        "    3. Next, we will print modified exam seat status\n",
        "    4. Calculating friends row position\n",
        "    :param exam_week: an int but  in this case the start will not start from 0 but rather from 1\n",
        "    :param seat_status: a numpy 2d array of seat status\n",
        "    :return: The position of our friend \"AA\"\n",
        "    \"\"\"\n",
        "    prev_row = 1\n",
        "    i = 0\n",
        "    while i < len(seat_status):\n",
        "        if \"AA\" not in seat_status[i]:\n",
        "            prev_row += 1\n",
        "        else:\n",
        "            break\n",
        "        i += 1\n",
        "    for i in range(1, exam_week):\n",
        "        rotate_columns(seat_status)\n",
        "    print(seat_status)\n",
        "\n",
        "    # Let us think that our friend always starts their week 1 at prev_row\n",
        "    # so after shifting (prev_row + (exam_week - 1)) % row\n",
        "    # And, if (prev_row + (exam_week - 1)) % row == 0 then we came back to where we started\n",
        "    row = len(seat_status)\n",
        "    friend_row = (prev_row + (exam_week - 1)) % row\n",
        "    if friend_row == 0:\n",
        "        friend_row = row\n",
        "    return friend_row\n",
        "\n",
        "\n",
        "def rotate_columns(arr):\n",
        "    \"\"\"\n",
        "    We need to right rotate or downwards rotation in this case\n",
        "    1. Hold the value of the last row\n",
        "    2. Iterate column wise\n",
        "    3. Iterate each row\n",
        "    4. Right shift all the elements one by one from each row in the column\n",
        "    5. Replace the first value with the last value\n",
        "    :param arr: numpy 2d array\n",
        "    :return: once rotated numpy 2d array\n",
        "    \"\"\"\n",
        "    row, col = arr.shape\n",
        "    c = 0\n",
        "    while c < col:\n",
        "        r = row - 1\n",
        "        last_elem = arr[r][c]\n",
        "        while r > 0:\n",
        "            arr[r][c] = arr[r - 1][c]\n",
        "            r -= 1\n",
        "        arr[0][c] = last_elem\n",
        "        c += 1\n",
        "\n",
        "\n",
        "seat_status = np.array([[ 'A' , 'B' , 'C' , 'D' , 'E'],\n",
        "                  ['F' , 'G' , 'H' , 'I' , 'J'],\n",
        "                  ['K' , 'L' , 'M' , 'N' , 'O'],\n",
        "                  ['P' , 'Q' , 'R' , 'S' , 'T'],\n",
        "                  ['U' , 'V' , 'W' , 'X' , 'Y'],\n",
        "                  ['Z' , 'AA' , 'BB' , 'CC' , 'DD']])\n",
        "exam_week=3\n",
        "print_matrix(seat_status)\n",
        "print()\n",
        "row_number=row_rotation(exam_week, seat_status) #This should print modified seat status after rotation\n",
        "print(f'Your friend AA will be on row {row_number}') #This should print Your friend AA will be on row 2"
      ],
      "metadata": {
        "id": "rChTGTHQdepv",
        "colab": {
          "base_uri": "https://localhost:8080/"
        },
        "outputId": "ad13aa7b-1702-4ea1-a45f-a61a665a380b"
      },
      "execution_count": 12,
      "outputs": [
        {
          "output_type": "stream",
          "name": "stdout",
          "text": [
            "|  A  |  B  |  C  |  D  |  E  |\n",
            "-------------------------------\n",
            "|  F  |  G  |  H  |  I  |  J  |\n",
            "-------------------------------\n",
            "|  K  |  L  |  M  |  N  |  O  |\n",
            "-------------------------------\n",
            "|  P  |  Q  |  R  |  S  |  T  |\n",
            "-------------------------------\n",
            "|  U  |  V  |  W  |  X  |  Y  |\n",
            "-------------------------------\n",
            "|  Z  |  AA |  BB |  CC |  DD |\n",
            "-------------------------------\n",
            "\n",
            "[['U' 'V' 'W' 'X' 'Y']\n",
            " ['Z' 'AA' 'BB' 'CC' 'DD']\n",
            " ['A' 'B' 'C' 'D' 'E']\n",
            " ['F' 'G' 'H' 'I' 'J']\n",
            " ['K' 'L' 'M' 'N' 'O']\n",
            " ['P' 'Q' 'R' 'S' 'T']]\n",
            "Your friend AA will be on row 2\n"
          ]
        }
      ]
    },
    {
      "cell_type": "markdown",
      "source": [
        "Task 3: Matrix Manipulation"
      ],
      "metadata": {
        "id": "nbt_Gzv0fBtX"
      }
    },
    {
      "cell_type": "code",
      "source": [
        "def reverse_Matrix(matrix):\n",
        "    \"\"\"\n",
        "    1. We check the row and col to check if it is a square matrix\n",
        "    2. If so we create a new output array (so that the given matrix is not manipulated)\n",
        "    3. Now, for output arrays last rows last item (column) becomes the first item of the given matrix 1st rows 1st item(column)\n",
        "    4. Then we decrement for output array\n",
        "    5. And increment for given array and update\n",
        "    \"\"\"\n",
        "    row, col = matrix.shape\n",
        "    assert row == col, \"Not a square matrix\"\n",
        "    output_arr = np.zeros((row, col), dtype=int)\n",
        "    r = row - 1\n",
        "    r1 = 0\n",
        "    while r >= 0:\n",
        "        c = col - 1\n",
        "        c1 = 0\n",
        "        while c >= 0:\n",
        "            output_arr[r][c] = matrix[r1][c1]\n",
        "            c -= 1\n",
        "            c1 += 1\n",
        "        r -= 1\n",
        "        r1 += 1\n",
        "    return output_arr\n",
        "\n",
        "\n",
        "matrix = np.array([\n",
        "[14,  8,  0,  4],\n",
        "[9,  8,  13,  13],\n",
        "[9,  3,  1,  4],\n",
        "[2,  10,  13,  6]\n",
        "])\n",
        "print_matrix(matrix)\n",
        "reversed_matrix = reverse_Matrix(matrix)\n",
        "print_matrix(reversed_matrix)\n",
        "\n",
        "#This should print\n",
        "#|  6  |  13 |  10 |  2  |\n",
        "#-------------------------\n",
        "#|  4  |  1  |  3  |  9  |\n",
        "#-------------------------\n",
        "#|  13  |  13  |  8 |  9 |\n",
        "#-------------------------\n",
        "#|  4 |  0  |  8  |  14  |\n",
        "#-------------------------\n"
      ],
      "metadata": {
        "id": "kger_tJ7fDwW",
        "colab": {
          "base_uri": "https://localhost:8080/"
        },
        "outputId": "66904f51-6fb5-491c-c6e7-5762ca7f959f"
      },
      "execution_count": 13,
      "outputs": [
        {
          "output_type": "stream",
          "name": "stdout",
          "text": [
            "|  14 |  8  |  0  |  4  |\n",
            "-------------------------\n",
            "|  9  |  8  |  13 |  13 |\n",
            "-------------------------\n",
            "|  9  |  3  |  1  |  4  |\n",
            "-------------------------\n",
            "|  2  |  10 |  13 |  6  |\n",
            "-------------------------\n",
            "|  6  |  13 |  10 |  2  |\n",
            "-------------------------\n",
            "|  4  |  1  |  3  |  9  |\n",
            "-------------------------\n",
            "|  13 |  13 |  8  |  9  |\n",
            "-------------------------\n",
            "|  4  |  0  |  8  |  14 |\n",
            "-------------------------\n"
          ]
        }
      ]
    },
    {
      "cell_type": "markdown",
      "source": [
        "Task 4: Chess Piece"
      ],
      "metadata": {
        "id": "b0wfGjWyftxX"
      }
    },
    {
      "cell_type": "code",
      "source": [
        "def show_knight_move(knight):\n",
        "    \"\"\"\n",
        "    1. We create the chess board of 0s\n",
        "    2. The default num of knight moves is initialized\n",
        "    3. Now for each move calculate the knights next pos from prev pos\n",
        "    4. If the next pos is valid i.e. inside the chess board we update the board with 3\n",
        "    :param knight: A tuple of position ex - (row, col)\n",
        "    :return: A 2d array of 0s where the available moves are 3 and current position is 66\n",
        "    \"\"\"\n",
        "    chess_board_of_0s = np.zeros((8, 8), dtype=int)\n",
        "    chess_board_of_0s[knight[0]][knight[1]] = 66\n",
        "    default_knight_moves = 8\n",
        "    for i in range(default_knight_moves):\n",
        "        starting_pos = np.array(knight)  # every time we go back to the original pos\n",
        "        if i == 0:\n",
        "            move_up_by_2(starting_pos)\n",
        "            move_right(starting_pos)\n",
        "            if 0 <= starting_pos[0] < 8 and 0 <= starting_pos[1] < 8:\n",
        "                chess_board_of_0s[starting_pos[0]][starting_pos[1]] = 3\n",
        "        elif i == 1:\n",
        "            move_up_by_2(starting_pos)\n",
        "            move_left(starting_pos)\n",
        "            if 0 <= starting_pos[0] < 8 and 0 <= starting_pos[1] < 8:\n",
        "                chess_board_of_0s[starting_pos[0]][starting_pos[1]] = 3\n",
        "        elif i == 2:\n",
        "            move_down_by_2(starting_pos)\n",
        "            move_right(starting_pos)\n",
        "            if 0 <= starting_pos[0] < 8 and 0 <= starting_pos[1] < 8:\n",
        "                chess_board_of_0s[starting_pos[0]][starting_pos[1]] = 3\n",
        "        elif i == 3:\n",
        "            move_down_by_2(starting_pos)\n",
        "            move_left(starting_pos)\n",
        "            if 0 <= starting_pos[0] < 8 and 0 <= starting_pos[1] < 8:\n",
        "                chess_board_of_0s[starting_pos[0]][starting_pos[1]] = 3\n",
        "        elif i == 4:\n",
        "            move_left_by_2(starting_pos)\n",
        "            move_up(starting_pos)\n",
        "            if 0 <= starting_pos[0] < 8 and 0 <= starting_pos[1] < 8:\n",
        "                chess_board_of_0s[starting_pos[0]][starting_pos[1]] = 3\n",
        "        elif i == 5:\n",
        "            move_left_by_2(starting_pos)\n",
        "            move_down(starting_pos)\n",
        "            if 0 <= starting_pos[0] < 8 and 0 <= starting_pos[1] < 8:\n",
        "                chess_board_of_0s[starting_pos[0]][starting_pos[1]] = 3\n",
        "        elif i == 6:\n",
        "            move_right_by_2(starting_pos)\n",
        "            move_up(starting_pos)\n",
        "            if 0 <= starting_pos[0] < 8 and 0 <= starting_pos[1] < 8:\n",
        "                chess_board_of_0s[starting_pos[0]][starting_pos[1]] = 3\n",
        "        elif i == 7:\n",
        "            move_right_by_2(starting_pos)\n",
        "            move_down(starting_pos)\n",
        "            if 0 <= starting_pos[0] < 8 and 0 <= starting_pos[1] < 8:\n",
        "                chess_board_of_0s[starting_pos[0]][starting_pos[1]] = 3\n",
        "    return chess_board_of_0s\n",
        "\n",
        "\n",
        "# because pos is an array the increment and decrement is happening in place\n",
        "def move_left(pos):\n",
        "    pos[1] -= 1\n",
        "\n",
        "\n",
        "def move_right(pos):\n",
        "    pos[1] += 1\n",
        "\n",
        "\n",
        "def move_up(pos):\n",
        "    pos[0] -= 1\n",
        "\n",
        "\n",
        "def move_down(pos):\n",
        "    pos[0] += 1\n",
        "\n",
        "\n",
        "def move_left_by_2(pos):\n",
        "    pos[1] -= 2\n",
        "\n",
        "\n",
        "def move_right_by_2(pos):\n",
        "    pos[1] += 2\n",
        "\n",
        "\n",
        "def move_up_by_2(pos):\n",
        "    pos[0] -= 2\n",
        "\n",
        "\n",
        "def move_down_by_2(pos):\n",
        "    pos[0] += 2\n",
        "\n",
        "\n",
        "knight = (3,4)\n",
        "chess_board = show_knight_move(knight)\n",
        "print_matrix(chess_board)\n",
        "#This Should print\n",
        "#| 0 | 0 | 0 | 0 | 0 | 0 | 0 | 0 |\n",
        "#------------------------------------------\n",
        "#| 0 | 0 | 0 | 3 | 0 | 3 | 0 | 0 |\n",
        "#------------------------------------------\n",
        "#| 0 | 0 | 3 | 0 | 0 | 0 | 3 | 0 |\n",
        "#------------------------------------------\n",
        "#| 0 | 0 | 0 | 0 | 66 | 0 | 0 | 0 |\n",
        "#------------------------------------------\n",
        "#| 0 | 0 | 3 | 0 | 0 | 0 | 3 | 0 |\n",
        "#------------------------------------------\n",
        "#| 0 | 0 | 0 | 3 | 0 | 3 | 0 | 0 |\n",
        "#------------------------------------------\n",
        "#| 0 | 0 | 0 | 0 | 0 | 0 | 0 | 0 |\n",
        "#------------------------------------------\n",
        "#| 0 | 0 | 0 | 0 | 0 | 0 | 0 | 0 |\n",
        "#-----------------------------------------"
      ],
      "metadata": {
        "id": "FSrQG6Jpfzo3",
        "colab": {
          "base_uri": "https://localhost:8080/"
        },
        "outputId": "5be04864-8f91-4f1b-fbae-2f66dd567060"
      },
      "execution_count": 16,
      "outputs": [
        {
          "output_type": "stream",
          "name": "stdout",
          "text": [
            "|  0  |  0  |  0  |  0  |  0  |  0  |  0  |  0  |\n",
            "-------------------------------------------------\n",
            "|  0  |  0  |  0  |  3  |  0  |  3  |  0  |  0  |\n",
            "-------------------------------------------------\n",
            "|  0  |  0  |  3  |  0  |  0  |  0  |  3  |  0  |\n",
            "-------------------------------------------------\n",
            "|  0  |  0  |  0  |  0  |  66 |  0  |  0  |  0  |\n",
            "-------------------------------------------------\n",
            "|  0  |  0  |  3  |  0  |  0  |  0  |  3  |  0  |\n",
            "-------------------------------------------------\n",
            "|  0  |  0  |  0  |  3  |  0  |  3  |  0  |  0  |\n",
            "-------------------------------------------------\n",
            "|  0  |  0  |  0  |  0  |  0  |  0  |  0  |  0  |\n",
            "-------------------------------------------------\n",
            "|  0  |  0  |  0  |  0  |  0  |  0  |  0  |  0  |\n",
            "-------------------------------------------------\n"
          ]
        }
      ]
    },
    {
      "cell_type": "markdown",
      "source": [
        "Task 5: Matrix Compression"
      ],
      "metadata": {
        "id": "zWd3LAbsGEDS"
      }
    },
    {
      "cell_type": "code",
      "source": [
        "def compress_matrix(mat):\n",
        "    \"\"\"\n",
        "    1. We create the compressed array\n",
        "    2. We iterate the given matrix with an increment of 2\n",
        "    3. Add the (i, j), (i + 1, j), (i, j + 1) and (i + 1, j + 1) and put it inside the compressed array\n",
        "    :param mat: A matrix with even row and columns\n",
        "    :return: Compressed matrix\n",
        "    \"\"\"\n",
        "    row, col = mat.shape\n",
        "    row_c, col_c = row // 2, col // 2\n",
        "    compressed_arr = np.zeros((row_c, col_c), dtype=int)\n",
        "    r = 0\n",
        "    r_c = 0\n",
        "    while r < row:\n",
        "        c = 0\n",
        "        c_c = 0\n",
        "        while c < col:\n",
        "            compressed_arr[r_c][c_c] = (mat[r][c]) + (mat[r + 1][c]) + (mat[r][c + 1]) + (mat[r + 1][c + 1])\n",
        "            c_c += 1\n",
        "            c += 2\n",
        "        r += 2\n",
        "        r_c += 1\n",
        "    return compressed_arr\n",
        "\n",
        "matrix=np.array([[1,2,3,4],\n",
        "                 [5,6,7,8],\n",
        "                 [1,3,5,2],\n",
        "                 [-2,0,6,-3]\n",
        "                 ])\n",
        "print_matrix(matrix)\n",
        "returned_array=compress_matrix(matrix)\n",
        "print_matrix(returned_array)\n",
        "#This should print\n",
        "#|  14  |  22 |\n",
        "#--------------\n",
        "#|  2  |  10  |\n",
        "#--------------"
      ],
      "metadata": {
        "id": "9oIzitXSGJXa",
        "colab": {
          "base_uri": "https://localhost:8080/"
        },
        "outputId": "9aa13ff4-f0b9-476f-b6ca-f0db2587f28e"
      },
      "execution_count": 18,
      "outputs": [
        {
          "output_type": "stream",
          "name": "stdout",
          "text": [
            "|  1  |  2  |  3  |  4  |\n",
            "-------------------------\n",
            "|  5  |  6  |  7  |  8  |\n",
            "-------------------------\n",
            "|  1  |  3  |  5  |  2  |\n",
            "-------------------------\n",
            "|  -2 |  0  |  6  |  -3 |\n",
            "-------------------------\n",
            "|  14 |  22 |\n",
            "-------------\n",
            "|  2  |  10 |\n",
            "-------------\n"
          ]
        }
      ]
    },
    {
      "cell_type": "markdown",
      "source": [
        "Task 6: Game Arena"
      ],
      "metadata": {
        "id": "AtJGXnG1I687"
      }
    },
    {
      "cell_type": "code",
      "source": [
        "def play_game(arena):\n",
        "    \"\"\"\n",
        "    1. We iterate for each item in the arena 2d array\n",
        "    2. If we get a multiple of 50 in (r, c)th position\n",
        "    3. We check for 2s in (r, c - 1), (r - 1, c), (r, c + 1), (r + 1, c) and if the positions are valid (meaning inside the arena)\n",
        "    4. We add them and check if they are inside the range of survival\n",
        "    :param arena:\n",
        "    :return:\n",
        "    \"\"\"\n",
        "    survival_points = 10\n",
        "    get_points_from = np.array([[0, -1], [-1, 0], [0, 1], [1, 0]])\n",
        "    team_points = 0\n",
        "    row, col = arena.shape\n",
        "    r = 0\n",
        "    while r < row:\n",
        "        c = 0\n",
        "        while c < col:\n",
        "            if arena[r][c] % 50 == 0 and arena[r][c] != 0:\n",
        "                player_pos = np.array([r, c])\n",
        "                for pos in get_points_from:\n",
        "                    points_pos = player_pos + pos\n",
        "                    if (0 <= points_pos[0] < row) and (0 <= points_pos[1] < col) and (arena[points_pos[0]][points_pos[1]] == 2):\n",
        "                        team_points += arena[points_pos[0]][points_pos[1]]\n",
        "            c += 1\n",
        "        r += 1\n",
        "    if team_points >= survival_points:\n",
        "        print(f\"Points Gained: {team_points}. Your team has survived the game.\")\n",
        "    else:\n",
        "        print(f\"Points Gained: {team_points}. Your team is out.\")\n",
        "\n",
        "arena=np.array([[0,2,2,0],\n",
        "                [50,1,2,0],\n",
        "                [2,2,2,0],\n",
        "                [1,100,2,0]\n",
        "                ])\n",
        "print_matrix(arena)\n",
        "play_game(arena)\n",
        "#This should print\n",
        "#Points Gained: 6. Your team is out.\n",
        "\n",
        "print(\".....................\")\n",
        "arena=np.array([[0,2,2,0,2],\n",
        "                [1,50,2,1,100],\n",
        "                [2,2,2,0,2],\n",
        "                [0,200,2,0,0]\n",
        "                ])\n",
        "print_matrix(arena)\n",
        "play_game(arena)\n",
        "#This should print\n",
        "#Points Gained: 14. Your team has survived the game."
      ],
      "metadata": {
        "id": "P5rvZJuWI-GC",
        "colab": {
          "base_uri": "https://localhost:8080/"
        },
        "outputId": "f79cb46f-a397-486a-dc38-6d06b8fa7af3"
      },
      "execution_count": 17,
      "outputs": [
        {
          "output_type": "stream",
          "name": "stdout",
          "text": [
            "|  0  |  2  |  2  |  0  |\n",
            "-------------------------\n",
            "|  50 |  1  |  2  |  0  |\n",
            "-------------------------\n",
            "|  2  |  2  |  2  |  0  |\n",
            "-------------------------\n",
            "|  1  |  100 |  2  |  0  |\n",
            "-------------------------\n",
            "Points Gained: 6. Your team is out.\n",
            ".....................\n",
            "|  0  |  2  |  2  |  0  |  2  |\n",
            "-------------------------------\n",
            "|  1  |  50 |  2  |  1  |  100 |\n",
            "-------------------------------\n",
            "|  2  |  2  |  2  |  0  |  2  |\n",
            "-------------------------------\n",
            "|  0  |  200 |  2  |  0  |  0  |\n",
            "-------------------------------\n",
            "Points Gained: 14. Your team has survived the game.\n"
          ]
        }
      ]
    },
    {
      "cell_type": "markdown",
      "source": [
        "Bonus Task: Primary vs Secondary Diagonal"
      ],
      "metadata": {
        "id": "svFnEuyNHeKy"
      }
    },
    {
      "cell_type": "code",
      "source": [
        "def check_diagonal(matrix1, matrix2):\n",
        "    matched = True\n",
        "    first_arr_s_d = get_secondary_diagonal(matrix1)\n",
        "    second_arr_p_d_r = get_primary_diagonal_reversed(matrix2)\n",
        "    i = 0\n",
        "    while i < len(first_arr_s_d):\n",
        "        if first_arr_s_d[i] != second_arr_p_d_r[i]:\n",
        "            matched = False\n",
        "            break\n",
        "        i += 1\n",
        "    if matched:\n",
        "        print(\"YES\")\n",
        "    else:\n",
        "        print(\"NO\")\n",
        "\n",
        "\n",
        "def get_primary_diagonal_reversed(arr):\n",
        "    row, col = arr.shape\n",
        "    r = row - 1\n",
        "    primary_diagonal = np.zeros(row)\n",
        "    i = 0\n",
        "    while r >= 0:\n",
        "        primary_diagonal[i] = arr[r][r]\n",
        "        i += 1\n",
        "        r -= 1\n",
        "    return primary_diagonal\n",
        "\n",
        "\n",
        "def get_secondary_diagonal(arr):\n",
        "    row, col = arr.shape\n",
        "    r = 0\n",
        "    secondary_diagonal = np.zeros(row)\n",
        "    while r < row:\n",
        "        secondary_diagonal[r] = arr[r][col - 1 - r]\n",
        "        r += 1\n",
        "    return secondary_diagonal\n",
        "\n",
        "\n",
        "array1 = np.array([[0, 4, 1], [7, 2, 5], [3, 6, 0]])\n",
        "array2 = np.array([[3, 6, 0], [5, 2, 7], [0, 4, 1]])\n",
        "\n",
        "check_diagonal(array1, array2) #This should print YES\n",
        "print(\".............\")\n",
        "array1 = np.array([[0, 9, 9, 1], [9, 0, 2, 9], [9, 3, 0, 9], [4, 9, 9, 0]])\n",
        "array2 = np.array([[4, 9, 9, 0], [9, 0, 3, 9], [9, 0, 2, 9], [0, 9, 5, 1]])\n",
        "\n",
        "check_diagonal (array1, array2) #This should print NO\n"
      ],
      "metadata": {
        "id": "IgNeWdF1Hjxe",
        "colab": {
          "base_uri": "https://localhost:8080/"
        },
        "outputId": "2a0a4d69-6445-43ec-ab2e-27b61c883063"
      },
      "execution_count": 19,
      "outputs": [
        {
          "output_type": "stream",
          "name": "stdout",
          "text": [
            "YES\n",
            ".............\n",
            "NO\n"
          ]
        }
      ]
    }
  ]
}